{
 "cells": [
  {
   "cell_type": "code",
   "execution_count": 1,
   "id": "a521426b",
   "metadata": {},
   "outputs": [],
   "source": [
    "# import lib\n",
    "import pandas as pd\n",
    "import numpy as np\n",
    "import selenium \n",
    "from selenium import webdriver\n",
    "from selenium.webdriver.common.by import By\n",
    "from selenium.common.exceptions import NoSuchElementException\n",
    "import time\n",
    "from selenium.webdriver.support.ui import WebDriverWait\n",
    "from selenium.webdriver.support import expected_conditions as EC"
   ]
  },
  {
   "cell_type": "code",
   "execution_count": 97,
   "id": "0be4c458",
   "metadata": {},
   "outputs": [],
   "source": [
    "# connect to chrome automated browser \n",
    "driver = webdriver.Chrome()"
   ]
  },
  {
   "cell_type": "code",
   "execution_count": 98,
   "id": "a7eaa687",
   "metadata": {},
   "outputs": [],
   "source": [
    "# open honestbroker web site \n",
    "driver.get(\" https://www.nobroker.in/\")"
   ]
  },
  {
   "cell_type": "code",
   "execution_count": 99,
   "id": "394e38c3",
   "metadata": {},
   "outputs": [],
   "source": [
    "# click in buy \n",
    "buy = driver.find_element(By.XPATH,\"/html/body/div[3]/div/div/div[1]/div[3]/div[1]\")\n",
    "buy.click()"
   ]
  },
  {
   "cell_type": "code",
   "execution_count": 5,
   "id": "20daa080",
   "metadata": {},
   "outputs": [],
   "source": [
    "# click city \n",
    "mumbai = driver.find_element(By.XPATH,\"/html/body/div[3]/div/div/div[1]/div[4]/div[1]/div/div/div/div[1]/div\")\n",
    "mumbai.click()"
   ]
  },
  {
   "cell_type": "code",
   "execution_count": 6,
   "id": "4146b757",
   "metadata": {},
   "outputs": [],
   "source": [
    "# click mumbai\n",
    "city = driver.find_element(By.XPATH,\"/html/body/div[3]/div/div/div[1]/div[4]/div[1]/div/div/div/div[1]/div\")\n",
    "city.click()"
   ]
  },
  {
   "cell_type": "code",
   "execution_count": 7,
   "id": "1287bd23",
   "metadata": {},
   "outputs": [],
   "source": [
    "# send andheri east name for searching \n",
    "andheri = driver.find_element(By.XPATH,\"/html/body/div[3]/div/div/div[1]/div[4]/div[2]/div/div/input\")\n",
    "andheri.send_keys('Andheri east')"
   ]
  },
  {
   "cell_type": "code",
   "execution_count": 8,
   "id": "90a29aa9",
   "metadata": {},
   "outputs": [],
   "source": [
    "# click andheri address \n",
    "andheri_click = driver.find_element(By.XPATH,\"/html/body/div[3]/div/div/div[1]/div[4]/div[2]/span/span\")\n",
    "andheri_click.click()"
   ]
  },
  {
   "cell_type": "code",
   "execution_count": 9,
   "id": "05b3ea06",
   "metadata": {},
   "outputs": [],
   "source": [
    "# click search button for featching data \n",
    "search = driver.find_element(By.XPATH,\"/html/body/div[3]/div/div/div[1]/div[4]/button\")\n",
    "search.click()"
   ]
  },
  {
   "cell_type": "code",
   "execution_count": 11,
   "id": "006561f6",
   "metadata": {},
   "outputs": [
    {
     "data": {
      "text/plain": [
       "406"
      ]
     },
     "execution_count": 11,
     "metadata": {},
     "output_type": "execute_result"
    }
   ],
   "source": [
    "# fetching andheri link \n",
    "for _ in range(10):\n",
    "    driver.execute_script(\"window.scrollBy(0,10)\")\n",
    "    time.sleep(20)\n",
    "andheri_url = []\n",
    "andheri_link = driver.find_elements(By.XPATH,'//a[@class=\"overflow-hidden overflow-ellipsis whitespace-nowrap max-w-80pe po:max-w-full\"]')\n",
    "\n",
    "for i in andheri_link:        \n",
    "    andheri_url.append(i.get_attribute('href'))   \n",
    "# print length of url    \n",
    "len(andheri_url)"
   ]
  },
  {
   "cell_type": "code",
   "execution_count": 12,
   "id": "76086de7",
   "metadata": {},
   "outputs": [],
   "source": [
    "# create list for store data\n",
    "andheri_onwer = []\n",
    "andheri_bedroom = []\n",
    "andheri_furnish = []\n",
    "andheri_parking = []\n",
    "andheri_bathroom = []\n",
    "andheri_balcony = []\n",
    "andheri_sq_fit = []\n",
    "andheri_carpet_area = []\n",
    "andheri_rate = []\n",
    "andheri_floor = []\n",
    "andheri_price = []\n",
    "andheri_address = []\n",
    "andheri_facing = []\n",
    "andheri_pro_type = []\n",
    "andheri_bhk = []\n",
    "\n",
    "# fetch all data \n",
    "\n",
    "for i in andheri_url:\n",
    "    driver.get(i)\n",
    "    time.sleep(5)\n",
    "    try:\n",
    "        o = driver.find_element(By.XPATH,\"/html/body/div[3]/div/div/section/div/div[1]/div/div/section[2]/div/div[1]/div[1]/div/div[2]/div[2]/div[3]/h5\")\n",
    "        andheri_onwer.append(o.text)\n",
    "    except NoSuchElementException:\n",
    "        andheri_onwer.append(np.nan)\n",
    "    try:\n",
    "        bath = driver.find_element(By.XPATH,\"/html/body/div[3]/div/div/section/div/div[1]/div/div/section[1]/div/div[2]/div[2]/div/section/div[2]/div[3]/div[2]/span/h4\")\n",
    "        andheri_bathroom.append(bath.text)\n",
    "    except NoSuchElementException:\n",
    "        andheri_bathroom.append(np.nan)\n",
    "    try:\n",
    "        BA = driver.find_element(By.XPATH,\"/html/body/div[3]/div/div/section/div/div[1]/div/div/section[1]/div/div[2]/div[2]/div/section/div[2]/div[5]/div[2]/span/h4\")\n",
    "        andheri_balcony.append(BA.text)\n",
    "    except NoSuchElementException:\n",
    "        andheri_balcony.append(np.nan)\n",
    "    try:\n",
    "        bh = driver.find_element(By.XPATH,\"/html/body/div[3]/div/div/section/div/div[1]/div/div/section[1]/div/div[2]/div[2]/div/section/div[2]/div[1]/div[2]/span/h4\")\n",
    "        andheri_bhk.append(bh.text)\n",
    "    except NoSuchElementException:\n",
    "        andheri_bhk.append(np.nan)    \n",
    "\n",
    "    try:\n",
    "        sq = driver.find_element(By.XPATH,\"/html/body/div[3]/div/div/section/div/div[1]/div/div/section[2]/div/div[1]/div[1]/div/div[2]/div[5]/div[3]\")\n",
    "        andheri_sq_fit.append(sq.text)\n",
    "    except NoSuchElementException:\n",
    "        andheri_sq_fit.append(np.nan)\n",
    "    try:\n",
    "        c = driver.find_element(By.XPATH,\"/html/body/div[3]/div/div/section/div/div[1]/div/div/section[2]/div/div[1]/div[1]/div/div[2]/div[6]/div[3]/h5\")\n",
    "        andheri_carpet_area.append(c.text)\n",
    "    except NoSuchElementException:\n",
    "        andheri_carpet_area.append(np.nan)\n",
    "    try:\n",
    "        f = driver.find_element(By.XPATH,\"/html/body/div[3]/div/div/section/div/div[1]/div/div/section[2]/div/div[1]/div[1]/div/div[2]/div[9]/div[3]/h5\")\n",
    "        andheri_floor.append(f.text)\n",
    "    except NoSuchElementException:\n",
    "        andheri_floor.append(np.nan)\n",
    "    try:\n",
    "        p = driver.find_element(By.XPATH,\"/html/body/div[3]/div/div/section/div/div[1]/div/div/section[1]/div/div[1]/div/div/div[1]/div[3]/div[1]/div/div[1]/span\")\n",
    "        andheri_price.append(p.text)\n",
    "    except NoSuchElementException:\n",
    "        andheri_price.append(np.nan)\n",
    "    try:\n",
    "        A = driver.find_element(By.XPATH,\"/html/body/div[3]/div/div/section/div/div[1]/div/div/section[1]/div/div[1]/div/div/div[1]/div[2]/div[1]/h5\")\n",
    "        andheri_address.append(A.text)\n",
    "    except NoSuchElementException:\n",
    "        andheri_address.append(np.nan)\n",
    "    try:\n",
    "        r = driver.find_element(By.XPATH,\"/html/body/main/div/div[2]/div[1]/div[3]/div/div[2]/li[3]/span[2]\")\n",
    "        andheri_rate.append(r.text)\n",
    "    except NoSuchElementException:\n",
    "        andheri_rate.append(np.nan)\n",
    "    try:\n",
    "        B = driver.find_element(By.XPATH,\"/html/body/div[3]/div/div/section/div/div[1]/div/div/section[1]/div/div[2]/div[2]/div/section/div[2]/div[1]/div[2]/span/h4\")\n",
    "        andheri_bedroom.append(B.text)\n",
    "    except NoSuchElementException:\n",
    "        andheri_bedroom.append(np.nan)\n",
    "    try:\n",
    "        F = driver.find_element(By.XPATH,\"/html/body/div[3]/div/div/section/div/div[1]/div/div/section[2]/div/div[1]/div[1]/div/div[2]/div[7]/div[3]/h5\")\n",
    "        andheri_furnish.append(F.text)\n",
    "    except NoSuchElementException:\n",
    "        andheri_furnish.append(np.nan)\n",
    "    try:\n",
    "        P = driver.find_element(By.XPATH,\"/html/body/div[3]/div/div/section/div/div[1]/div/div/section[2]/div/div[1]/div[1]/div/div[2]/div[10]/div[3]/h5\")\n",
    "        andheri_parking.append(P.text)\n",
    "    except NoSuchElementException:\n",
    "        andheri_parking.append(np.nan)\n",
    "    try: \n",
    "        pr = driver.find_element(By.XPATH,\"/html/body/div[3]/div/div/section/div/div[1]/div/div/section[2]/div/div[1]/div[1]/div/div[2]/div[2]/div[3]/h5\")\n",
    "        andheri_pro_type.append(pr.text)\n",
    "    except NoSuchElementException:\n",
    "        andheri_pro_type.append(np.nan)\n",
    "    try:\n",
    "        fa = driver.find_element(By.XPATH,\"/html/body/div[3]/div/div/section/div/div[1]/div/div/section[2]/div/div[1]/div[1]/div/div[2]/div[8]/div[3]/h5\")\n",
    "        andheri_facing.append(fa.text)\n",
    "    except NoSuchElementException:\n",
    "        andheri_facing.append(np.nan)\n",
    "        "
   ]
  },
  {
   "cell_type": "code",
   "execution_count": 13,
   "id": "7763245b",
   "metadata": {},
   "outputs": [],
   "source": [
    "# click home button \n",
    "Home = driver.find_element(By.XPATH,\"/html/body/div[3]/div/div/div[1]/header/div[1]/div[2]/div/img\")\n",
    "Home.click()"
   ]
  },
  {
   "cell_type": "code",
   "execution_count": 14,
   "id": "71f9d06c",
   "metadata": {},
   "outputs": [],
   "source": [
    "# click buy button\n",
    "buy = driver.find_element(By.XPATH,\"/html/body/div[3]/div/div/div[1]/div[3]/div[1]\")\n",
    "buy.click()"
   ]
  },
  {
   "cell_type": "code",
   "execution_count": 15,
   "id": "1cd120ca",
   "metadata": {},
   "outputs": [],
   "source": [
    "# click faridabad \n",
    "city = driver.find_element(By.XPATH,\"/html/body/div[3]/div/div/div[1]/div[4]/div[1]/div/div/div/div[1]/div\")\n",
    "city.click()"
   ]
  },
  {
   "cell_type": "code",
   "execution_count": 16,
   "id": "28cd229c",
   "metadata": {},
   "outputs": [],
   "source": [
    "# click faridabad \n",
    "faridabad = driver.find_element(By.XPATH,\"/html/body/div[3]/div/div/div[1]/div[4]/div[1]/div/div/div/div[1]/div\")\n",
    "faridabad.click()"
   ]
  },
  {
   "cell_type": "code",
   "execution_count": 17,
   "id": "f88a53a7",
   "metadata": {},
   "outputs": [],
   "source": [
    "# send faridabad location for fetching data \n",
    "faridabad = driver.find_element(By.XPATH,\"/html/body/div[3]/div/div/div[1]/div[4]/div[2]/div/div/input\")\n",
    "faridabad.send_keys('Anangpur')"
   ]
  },
  {
   "cell_type": "code",
   "execution_count": 18,
   "id": "90924490",
   "metadata": {},
   "outputs": [],
   "source": [
    "# click address \n",
    "faridabad_click = driver.find_element(By.XPATH,\"/html/body/div[3]/div/div/div[1]/div[4]/div[2]/div/div\")\n",
    "faridabad_click.click()"
   ]
  },
  {
   "cell_type": "code",
   "execution_count": 19,
   "id": "0e2a8807",
   "metadata": {},
   "outputs": [],
   "source": [
    "# send faridabad option area location \n",
    "rocky = driver.find_element(By.XPATH,\"/html/body/div[3]/div/div/div[1]/div[4]/div[2]/div/div/input\")\n",
    "rocky.send_keys('Rocky Area')"
   ]
  },
  {
   "cell_type": "code",
   "execution_count": 20,
   "id": "4a61029d",
   "metadata": {},
   "outputs": [],
   "source": [
    "# click location \n",
    "faridabad_click = driver.find_element(By.XPATH,\"/html/body/div[3]/div/div/div[1]/div[4]/div[2]/div/div\")\n",
    "faridabad_click.click()"
   ]
  },
  {
   "cell_type": "code",
   "execution_count": 21,
   "id": "0421161a",
   "metadata": {},
   "outputs": [],
   "source": [
    "# click option area location \n",
    "chhota_click = driver.find_element(By.XPATH,\"/html/body/div[3]/div/div/div[1]/div[5]/div/div[2]/div[3]/span[2]\")\n",
    "chhota_click.click()"
   ]
  },
  {
   "cell_type": "code",
   "execution_count": 22,
   "id": "62aaa6e6",
   "metadata": {},
   "outputs": [],
   "source": [
    "# click search button\n",
    "search = driver.find_element(By.XPATH,\"/html/body/div[3]/div/div/div[1]/div[4]/button\")\n",
    "search.click()"
   ]
  },
  {
   "cell_type": "code",
   "execution_count": 23,
   "id": "12e9e798",
   "metadata": {},
   "outputs": [
    {
     "data": {
      "text/plain": [
       "419"
      ]
     },
     "execution_count": 23,
     "metadata": {},
     "output_type": "execute_result"
    }
   ],
   "source": [
    "# fetching faridabad link \n",
    "for _ in range(10):\n",
    "    driver.execute_script(\"window.scrollBy(0,10)\")\n",
    "    time.sleep(20)\n",
    "faridabad_url = []\n",
    "faridabad_link = driver.find_elements(By.XPATH,'//a[@class=\"overflow-hidden overflow-ellipsis whitespace-nowrap max-w-80pe po:max-w-full\"]')\n",
    "\n",
    "for i in faridabad_link:        \n",
    "    faridabad_url.append(i.get_attribute('href'))   \n",
    "# print length of url    \n",
    "len(faridabad_url)"
   ]
  },
  {
   "cell_type": "code",
   "execution_count": 24,
   "id": "3b412cbf",
   "metadata": {},
   "outputs": [],
   "source": [
    "# create empty list for store fetch data \n",
    "\n",
    "faridabad_onwer = []\n",
    "faridabad_bedroom = []\n",
    "faridabad_furnish = []\n",
    "faridabad_parking = []\n",
    "faridabad_bathroom = []\n",
    "faridabad_balcony = []\n",
    "faridabad_sq_fit = []\n",
    "faridabad_carpet_area = []\n",
    "faridabad_rate = []\n",
    "faridabad_floor = []\n",
    "faridabad_price = []\n",
    "faridabad_address = []\n",
    "faridabad_facing = []\n",
    "faridabad_pro_type = []\n",
    "faridabad_bhk = []\n",
    "\n",
    "# fetching all dala mention \n",
    "\n",
    "for i in faridabad_url:\n",
    "    driver.get(i)\n",
    "    time.sleep(5)\n",
    "    try:\n",
    "        o = driver.find_element(By.XPATH,\"/html/body/div[3]/div/div/section/div/div[1]/div/div/section[2]/div/div[1]/div[1]/div/div[2]/div[2]/div[3]/h5\")\n",
    "        faridabad_onwer.append(o.text)\n",
    "    except NoSuchElementException:\n",
    "        faridabad_onwer.append(np.nan)\n",
    "    try:\n",
    "        bath = driver.find_element(By.XPATH,\"/html/body/div[3]/div/div/section/div/div[1]/div/div/section[1]/div/div[2]/div[2]/div/section/div[2]/div[3]/div[2]/span/h4\")\n",
    "        faridabad_bathroom.append(bath.text)\n",
    "    except NoSuchElementException:\n",
    "        faridabad_bathroom.append(np.nan)\n",
    "    try:\n",
    "        BA = driver.find_element(By.XPATH,\"/html/body/div[3]/div/div/section/div/div[1]/div/div/section[1]/div/div[2]/div[2]/div/section/div[2]/div[5]/div[2]/span/h4\")\n",
    "        faridabad_balcony.append(BA.text)\n",
    "    except NoSuchElementException:\n",
    "        faridabad_balcony.append(np.nan)\n",
    "    try:\n",
    "        bh = driver.find_element(By.XPATH,\"/html/body/div[3]/div/div/section/div/div[1]/div/div/section[1]/div/div[2]/div[2]/div/section/div[2]/div[1]/div[2]/span/h4\")\n",
    "        faridabad_bhk.append(bh.text)\n",
    "    except NoSuchElementException:\n",
    "        faridabad_bhk.append(np.nan)    \n",
    "\n",
    "    try:\n",
    "        sq = driver.find_element(By.XPATH,\"/html/body/div[3]/div/div/section/div/div[1]/div/div/section[2]/div/div[1]/div[1]/div/div[2]/div[5]/div[3]\")\n",
    "        faridabad_sq_fit.append(sq.text)\n",
    "    except NoSuchElementException:\n",
    "        faridabad_sq_fit.append(np.nan)\n",
    "    try:\n",
    "        c = driver.find_element(By.XPATH,\"/html/body/div[3]/div/div/section/div/div[1]/div/div/section[2]/div/div[1]/div[1]/div/div[2]/div[6]/div[3]/h5\")\n",
    "        faridabad_carpet_area.append(c.text)\n",
    "    except NoSuchElementException:\n",
    "        faridabad_carpet_area.append(np.nan)\n",
    "    try:\n",
    "        f = driver.find_element(By.XPATH,\"/html/body/div[3]/div/div/section/div/div[1]/div/div/section[2]/div/div[1]/div[1]/div/div[2]/div[9]/div[3]/h5\")\n",
    "        faridabad_floor.append(f.text)\n",
    "    except NoSuchElementException:\n",
    "        faridabad_floor.append(np.nan)\n",
    "    try:\n",
    "        p = driver.find_element(By.XPATH,\"/html/body/div[3]/div/div/section/div/div[1]/div/div/section[1]/div/div[1]/div/div/div[1]/div[3]/div[1]/div/div[1]/span\")\n",
    "        faridabad_price.append(p.text)\n",
    "    except NoSuchElementException:\n",
    "        faridabad_price.append(np.nan)\n",
    "    try:\n",
    "        A = driver.find_element(By.XPATH,\"/html/body/div[3]/div/div/section/div/div[1]/div/div/section[1]/div/div[1]/div/div/div[1]/div[2]/div[1]/h5\")\n",
    "        faridabad_address.append(A.text)\n",
    "    except NoSuchElementException:\n",
    "        faridabad_address.append(np.nan)\n",
    "    try:\n",
    "        r = driver.find_element(By.XPATH,\"/html/body/main/div/div[2]/div[1]/div[3]/div/div[2]/li[3]/span[2]\")\n",
    "        faridabad_rate.append(r.text)\n",
    "    except NoSuchElementException:\n",
    "        faridabad_rate.append(np.nan)\n",
    "    try:\n",
    "        B = driver.find_element(By.XPATH,\"/html/body/div[3]/div/div/section/div/div[1]/div/div/section[1]/div/div[2]/div[2]/div/section/div[2]/div[1]/div[2]/span/h4\")\n",
    "        faridabad_bedroom.append(B.text)\n",
    "    except NoSuchElementException:\n",
    "        faridabad_bedroom.append(np.nan)\n",
    "    try:\n",
    "        F = driver.find_element(By.XPATH,\"/html/body/div[3]/div/div/section/div/div[1]/div/div/section[2]/div/div[1]/div[1]/div/div[2]/div[7]/div[3]/h5\")\n",
    "        faridabad_furnish.append(F.text)\n",
    "    except NoSuchElementException:\n",
    "        faridabad_furnish.append(np.nan)\n",
    "    try:\n",
    "        P = driver.find_element(By.XPATH,\"/html/body/div[3]/div/div/section/div/div[1]/div/div/section[2]/div/div[1]/div[1]/div/div[2]/div[10]/div[3]/h5\")\n",
    "        faridabad_parking.append(P.text)\n",
    "    except NoSuchElementException:\n",
    "        faridabad_parking.append(np.nan)\n",
    "    try: \n",
    "        pr = driver.find_element(By.XPATH,\"/html/body/div[3]/div/div/section/div/div[1]/div/div/section[2]/div/div[1]/div[1]/div/div[2]/div[2]/div[3]/h5\")\n",
    "        faridabad_pro_type.append(pr.text)\n",
    "    except NoSuchElementException:\n",
    "        faridabad_pro_type.append(np.nan)\n",
    "    try:\n",
    "        fa = driver.find_element(By.XPATH,\"/html/body/div[3]/div/div/section/div/div[1]/div/div/section[2]/div/div[1]/div[1]/div/div[2]/div[8]/div[3]/h5\")\n",
    "        faridabad_facing.append(fa.text)\n",
    "    except NoSuchElementException:\n",
    "        faridabad_facing.append(np.nan)\n",
    "        "
   ]
  },
  {
   "cell_type": "code",
   "execution_count": 26,
   "id": "8714dca9",
   "metadata": {},
   "outputs": [],
   "source": [
    "# click home button \n",
    "Home = driver.find_element(By.XPATH,\"/html/body/div[3]/div/div/div[1]/header/div[1]/div[2]/div/img\")\n",
    "Home.click()"
   ]
  },
  {
   "cell_type": "code",
   "execution_count": 27,
   "id": "a8fc0a41",
   "metadata": {},
   "outputs": [],
   "source": [
    "# click buy button \n",
    "buy = driver.find_element(By.XPATH,\"/html/body/div[3]/div/div/div[1]/div[3]/div[1]\")\n",
    "buy.click()"
   ]
  },
  {
   "cell_type": "code",
   "execution_count": 28,
   "id": "c5780135",
   "metadata": {},
   "outputs": [],
   "source": [
    "# click city location button \n",
    "Delhi = driver.find_element(By.XPATH,\"/html/body/div[3]/div/div/div[1]/div[4]/div[1]/div/div/div/div[1]/div\")\n",
    "Delhi.click()"
   ]
  },
  {
   "cell_type": "code",
   "execution_count": 29,
   "id": "1f6b1967",
   "metadata": {},
   "outputs": [],
   "source": [
    "# click delhi city \n",
    "city = driver.find_element(By.XPATH,\"/html/body/div[3]/div/div/div[1]/div[4]/div[1]/div/div/div/div[1]/div\")\n",
    "city.click()"
   ]
  },
  {
   "cell_type": "code",
   "execution_count": 30,
   "id": "2356f14a",
   "metadata": {},
   "outputs": [],
   "source": [
    "# featch indrapuri location in delhi\n",
    "indarpuri = driver.find_element(By.XPATH,\"/html/body/div[3]/div/div/div[1]/div[4]/div[2]/div/div/input\")\n",
    "indarpuri.send_keys('Inderpuri')"
   ]
  },
  {
   "cell_type": "code",
   "execution_count": 31,
   "id": "63f39d6f",
   "metadata": {},
   "outputs": [],
   "source": [
    "# click indrapuri address \n",
    "indarpuri_click = driver.find_element(By.XPATH,\"/html/body/div[3]/div/div/div[1]/div[4]/div[2]/div/div\")\n",
    "indarpuri_click.click()"
   ]
  },
  {
   "cell_type": "code",
   "execution_count": 32,
   "id": "010c88d2",
   "metadata": {},
   "outputs": [],
   "source": [
    "# send ber sarai delhi location for featching \n",
    "indarpuri = driver.find_element(By.XPATH,\"/html/body/div[3]/div/div/div[1]/div[4]/div[2]/div/div/input\")\n",
    "indarpuri.send_keys('Ber sarai')"
   ]
  },
  {
   "cell_type": "code",
   "execution_count": 33,
   "id": "777a9329",
   "metadata": {},
   "outputs": [],
   "source": [
    "# click ber sarai location \n",
    "indarpuri_click = driver.find_element(By.XPATH,\"/html/body/div[3]/div/div/div[1]/div[4]/div[2]/div/div\")\n",
    "indarpuri_click.click()"
   ]
  },
  {
   "cell_type": "code",
   "execution_count": 34,
   "id": "bb875ae6",
   "metadata": {},
   "outputs": [],
   "source": [
    "# click option location \n",
    "todapur_click = driver.find_element(By.XPATH,\"/html/body/div[3]/div/div/div[1]/div[5]/div/div[2]/div[3]/span[2]\")\n",
    "todapur_click.click()"
   ]
  },
  {
   "cell_type": "code",
   "execution_count": 35,
   "id": "4e0c9159",
   "metadata": {},
   "outputs": [],
   "source": [
    "# click search button for searching \n",
    "search = driver.find_element(By.XPATH,\"/html/body/div[3]/div/div/div[1]/div[4]/button\")\n",
    "search.click()"
   ]
  },
  {
   "cell_type": "code",
   "execution_count": 36,
   "id": "23564165",
   "metadata": {},
   "outputs": [
    {
     "data": {
      "text/plain": [
       "179"
      ]
     },
     "execution_count": 36,
     "metadata": {},
     "output_type": "execute_result"
    }
   ],
   "source": [
    "# fetching delhi link \n",
    "for _ in range(20):\n",
    "    driver.execute_script(\"window.scrollBy(0,20)\")\n",
    "    time.sleep(20)\n",
    "delhi_url = []\n",
    "delhi_link = driver.find_elements(By.XPATH,'//a[@class=\"overflow-hidden overflow-ellipsis whitespace-nowrap max-w-80pe po:max-w-full\"]')\n",
    "\n",
    "for i in delhi_link:        \n",
    "    delhi_url.append(i.get_attribute('href'))   \n",
    "# print length of url    \n",
    "len(delhi_url)"
   ]
  },
  {
   "cell_type": "code",
   "execution_count": 37,
   "id": "8f84a6e4",
   "metadata": {},
   "outputs": [],
   "source": [
    "# create empty list for store fetch data\n",
    "\n",
    "delhi_onwer = []\n",
    "delhi_bedroom = []\n",
    "delhi_furnish = []\n",
    "delhi_parking = []\n",
    "delhi_bathroom = []\n",
    "delhi_balcony = []\n",
    "delhi_sq_fit = []\n",
    "delhi_carpet_area = []\n",
    "delhi_rate = []\n",
    "delhi_floor = []\n",
    "delhi_price = []\n",
    "delhi_address = []\n",
    "delhi_facing = []\n",
    "delhi_pro_type = []\n",
    "delhi_bhk = []\n",
    "\n",
    "# featch all mention data \n",
    "\n",
    "for i in delhi_url:\n",
    "    driver.get(i)\n",
    "    time.sleep(5)\n",
    "    try:\n",
    "        o = driver.find_element(By.XPATH,\"/html/body/div[3]/div/div/section/div/div[1]/div/div/section[2]/div/div[1]/div[1]/div/div[2]/div[2]/div[3]/h5\")\n",
    "        delhi_onwer.append(o.text)\n",
    "    except NoSuchElementException:\n",
    "        delhi_onwer.append(np.nan)\n",
    "    try:\n",
    "        bath = driver.find_element(By.XPATH,\"/html/body/div[3]/div/div/section/div/div[1]/div/div/section[1]/div/div[2]/div[2]/div/section/div[2]/div[3]/div[2]/span/h4\")\n",
    "        delhi_bathroom.append(bath.text)\n",
    "    except NoSuchElementException:\n",
    "        delhi_bathroom.append(np.nan)\n",
    "    try:\n",
    "        BA = driver.find_element(By.XPATH,\"/html/body/div[3]/div/div/section/div/div[1]/div/div/section[1]/div/div[2]/div[2]/div/section/div[2]/div[5]/div[2]/span/h4\")\n",
    "        delhi_balcony.append(BA.text)\n",
    "    except NoSuchElementException:\n",
    "        delhi_balcony.append(np.nan)\n",
    "    try:\n",
    "        bh = driver.find_element(By.XPATH,\"/html/body/div[3]/div/div/section/div/div[1]/div/div/section[1]/div/div[2]/div[2]/div/section/div[2]/div[1]/div[2]/span/h4\")\n",
    "        delhi_bhk.append(bh.text)\n",
    "    except NoSuchElementException:\n",
    "        delhi_bhk.append(np.nan)    \n",
    "\n",
    "    try:\n",
    "        sq = driver.find_element(By.XPATH,\"/html/body/div[3]/div/div/section/div/div[1]/div/div/section[2]/div/div[1]/div[1]/div/div[2]/div[5]/div[3]\")\n",
    "        delhi_sq_fit.append(sq.text)\n",
    "    except NoSuchElementException:\n",
    "        delhi_sq_fit.append(np.nan)\n",
    "    try:\n",
    "        c = driver.find_element(By.XPATH,\"/html/body/div[3]/div/div/section/div/div[1]/div/div/section[2]/div/div[1]/div[1]/div/div[2]/div[6]/div[3]/h5\")\n",
    "        delhi_carpet_area.append(c.text)\n",
    "    except NoSuchElementException:\n",
    "        delhi_carpet_area.append(np.nan)\n",
    "    try:\n",
    "        f = driver.find_element(By.XPATH,\"/html/body/div[3]/div/div/section/div/div[1]/div/div/section[2]/div/div[1]/div[1]/div/div[2]/div[9]/div[3]/h5\")\n",
    "        delhi_floor.append(f.text)\n",
    "    except NoSuchElementException:\n",
    "        delhi_floor.append(np.nan)\n",
    "    try:\n",
    "        p = driver.find_element(By.XPATH,\"/html/body/div[3]/div/div/section/div/div[1]/div/div/section[1]/div/div[1]/div/div/div[1]/div[3]/div[1]/div/div[1]/span\")\n",
    "        delhi_price.append(p.text)\n",
    "    except NoSuchElementException:\n",
    "        delhi_price.append(np.nan)\n",
    "    try:\n",
    "        A = driver.find_element(By.XPATH,\"/html/body/div[3]/div/div/section/div/div[1]/div/div/section[1]/div/div[1]/div/div/div[1]/div[2]/div[1]/h5\")\n",
    "        delhi_address.append(A.text)\n",
    "    except NoSuchElementException:\n",
    "        delhi_address.append(np.nan)\n",
    "    try:\n",
    "        r = driver.find_element(By.XPATH,\"/html/body/main/div/div[2]/div[1]/div[3]/div/div[2]/li[3]/span[2]\")\n",
    "        delhi_rate.append(r.text)\n",
    "    except NoSuchElementException:\n",
    "        delhi_rate.append(np.nan)\n",
    "    try:\n",
    "        B = driver.find_element(By.XPATH,\"/html/body/div[3]/div/div/section/div/div[1]/div/div/section[1]/div/div[2]/div[2]/div/section/div[2]/div[1]/div[2]/span/h4\")\n",
    "        delhi_bedroom.append(B.text)\n",
    "    except NoSuchElementException:\n",
    "        delhi_bedroom.append(np.nan)\n",
    "    try:\n",
    "        F = driver.find_element(By.XPATH,\"/html/body/div[3]/div/div/section/div/div[1]/div/div/section[2]/div/div[1]/div[1]/div/div[2]/div[7]/div[3]/h5\")\n",
    "        delhi_furnish.append(F.text)\n",
    "    except NoSuchElementException:\n",
    "        delhi_furnish.append(np.nan)\n",
    "    try:\n",
    "        P = driver.find_element(By.XPATH,\"/html/body/div[3]/div/div/section/div/div[1]/div/div/section[2]/div/div[1]/div[1]/div/div[2]/div[10]/div[3]/h5\")\n",
    "        delhi_parking.append(P.text)\n",
    "    except NoSuchElementException:\n",
    "        delhi_parking.append(np.nan)\n",
    "    try: \n",
    "        pr = driver.find_element(By.XPATH,\"/html/body/div[3]/div/div/section/div/div[1]/div/div/section[2]/div/div[1]/div[1]/div/div[2]/div[2]/div[3]/h5\")\n",
    "        delhi_pro_type.append(pr.text)\n",
    "    except NoSuchElementException:\n",
    "        delhi_pro_type.append(np.nan)\n",
    "    try:\n",
    "        fa = driver.find_element(By.XPATH,\"/html/body/div[3]/div/div/section/div/div[1]/div/div/section[2]/div/div[1]/div[1]/div/div[2]/div[8]/div[3]/h5\")\n",
    "        delhi_facing.append(fa.text)\n",
    "    except NoSuchElementException:\n",
    "        delhi_facing.append(np.nan)\n",
    "        "
   ]
  },
  {
   "cell_type": "code",
   "execution_count": 39,
   "id": "f6ba7753",
   "metadata": {},
   "outputs": [],
   "source": [
    "# click home button\n",
    "Home = driver.find_element(By.XPATH,\"/html/body/div[3]/div/div/div[1]/header/div[1]/div[2]/div/img\")\n",
    "Home.click()"
   ]
  },
  {
   "cell_type": "code",
   "execution_count": 40,
   "id": "f6d6b8e3",
   "metadata": {},
   "outputs": [],
   "source": [
    "# click buy button\n",
    "buy = driver.find_element(By.XPATH,\"/html/body/div[3]/div/div/div[1]/div[3]/div[1]\")\n",
    "buy.click()"
   ]
  },
  {
   "cell_type": "code",
   "execution_count": 41,
   "id": "07a7e226",
   "metadata": {},
   "outputs": [],
   "source": [
    "# click city location \n",
    "noida = driver.find_element(By.XPATH,\"/html/body/div[3]/div/div/div[1]/div[4]/div[1]/div/div/div/div[1]/div\")\n",
    "noida.click()"
   ]
  },
  {
   "cell_type": "code",
   "execution_count": 42,
   "id": "6702bca6",
   "metadata": {},
   "outputs": [],
   "source": [
    "# click noida city\n",
    "city = driver.find_element(By.XPATH,\"/html/body/div[3]/div/div/div[1]/div[4]/div[1]/div/div/div/div[1]/div\")\n",
    "city.click()"
   ]
  },
  {
   "cell_type": "code",
   "execution_count": 50,
   "id": "47a99167",
   "metadata": {},
   "outputs": [],
   "source": [
    "# send area name for featch data\n",
    "sector = driver.find_element(By.XPATH,\"/html/body/div[3]/div/div/div[1]/div[4]/div[2]/div/div/input\")\n",
    "sector.send_keys('Sector 18')"
   ]
  },
  {
   "cell_type": "code",
   "execution_count": 51,
   "id": "ce0f4d6b",
   "metadata": {},
   "outputs": [],
   "source": [
    "# click address \n",
    "sector_click = driver.find_element(By.XPATH,\"/html/body/div[3]/div/div/div[1]/div[4]/div[2]/div/div\")\n",
    "sector_click.click()"
   ]
  },
  {
   "cell_type": "code",
   "execution_count": 52,
   "id": "99a513d5",
   "metadata": {},
   "outputs": [],
   "source": [
    "# click option location \n",
    "sector = driver.find_element(By.XPATH,\"/html/body/div[3]/div/div/div[1]/div[5]/div/div[2]/div[3]/span[2]\")\n",
    "sector.click()"
   ]
  },
  {
   "cell_type": "code",
   "execution_count": 53,
   "id": "2bb36496",
   "metadata": {},
   "outputs": [],
   "source": [
    "# click search button for searching \n",
    "search = driver.find_element(By.XPATH,\"/html/body/div[3]/div/div/div[1]/div[4]/button\")\n",
    "search.click()"
   ]
  },
  {
   "cell_type": "code",
   "execution_count": 55,
   "id": "719ad0ad",
   "metadata": {},
   "outputs": [
    {
     "data": {
      "text/plain": [
       "227"
      ]
     },
     "execution_count": 55,
     "metadata": {},
     "output_type": "execute_result"
    }
   ],
   "source": [
    "# fetching noida link \n",
    "for _ in range(20):\n",
    "    driver.execute_script(\"window.scrollBy(0,20)\")\n",
    "    time.sleep(20)\n",
    "noida_url = []\n",
    "noida_link = driver.find_elements(By.XPATH,'//a[@class=\"overflow-hidden overflow-ellipsis whitespace-nowrap max-w-80pe po:max-w-full\"]')\n",
    "\n",
    "for i in noida_link:        \n",
    "    noida_url.append(i.get_attribute('href'))   \n",
    "# print length of url    \n",
    "len(noida_url)"
   ]
  },
  {
   "cell_type": "code",
   "execution_count": 56,
   "id": "4b422ba3",
   "metadata": {},
   "outputs": [],
   "source": [
    "# create empty list for store fetch data \n",
    "\n",
    "noida_onwer = []\n",
    "noida_bedroom = []\n",
    "noida_furnish = []\n",
    "noida_parking = []\n",
    "noida_bathroom = []\n",
    "noida_balcony = []\n",
    "noida_sq_fit = []\n",
    "noida_carpet_area = []\n",
    "noida_rate = []\n",
    "noida_floor = []\n",
    "noida_price = []\n",
    "noida_address = []\n",
    "noida_facing = []\n",
    "noida_pro_type = []\n",
    "noida_bhk = []\n",
    "\n",
    "# featch all mention data \n",
    "\n",
    "for i in noida_url:\n",
    "    driver.get(i)\n",
    "    time.sleep(5)\n",
    "    try:\n",
    "        o = driver.find_element(By.XPATH,\"/html/body/div[3]/div/div/section/div/div[1]/div/div/section[2]/div/div[1]/div[1]/div/div[2]/div[2]/div[3]/h5\")\n",
    "        noida_onwer.append(o.text)\n",
    "    except NoSuchElementException:\n",
    "        noida_onwer.append(np.nan)\n",
    "    try:\n",
    "        bath = driver.find_element(By.XPATH,\"/html/body/div[3]/div/div/section/div/div[1]/div/div/section[1]/div/div[2]/div[2]/div/section/div[2]/div[3]/div[2]/span/h4\")\n",
    "        noida_bathroom.append(bath.text)\n",
    "    except NoSuchElementException:\n",
    "        noida_bathroom.append(np.nan)\n",
    "    try:\n",
    "        BA = driver.find_element(By.XPATH,\"/html/body/div[3]/div/div/section/div/div[1]/div/div/section[1]/div/div[2]/div[2]/div/section/div[2]/div[5]/div[2]/span/h4\")\n",
    "        noida_balcony.append(BA.text)\n",
    "    except NoSuchElementException:\n",
    "        noida_balcony.append(np.nan)\n",
    "    try:\n",
    "        bh = driver.find_element(By.XPATH,\"/html/body/div[3]/div/div/section/div/div[1]/div/div/section[1]/div/div[2]/div[2]/div/section/div[2]/div[1]/div[2]/span/h4\")\n",
    "        noida_bhk.append(bh.text)\n",
    "    except NoSuchElementException:\n",
    "        noida_bhk.append(np.nan)    \n",
    "\n",
    "    try:\n",
    "        sq = driver.find_element(By.XPATH,\"/html/body/div[3]/div/div/section/div/div[1]/div/div/section[2]/div/div[1]/div[1]/div/div[2]/div[5]/div[3]\")\n",
    "        noida_sq_fit.append(sq.text)\n",
    "    except NoSuchElementException:\n",
    "        noida_sq_fit.append(np.nan)\n",
    "    try:\n",
    "        c = driver.find_element(By.XPATH,\"/html/body/div[3]/div/div/section/div/div[1]/div/div/section[2]/div/div[1]/div[1]/div/div[2]/div[6]/div[3]/h5\")\n",
    "        noida_carpet_area.append(c.text)\n",
    "    except NoSuchElementException:\n",
    "        noida_carpet_area.append(np.nan)\n",
    "    try:\n",
    "        f = driver.find_element(By.XPATH,\"/html/body/div[3]/div/div/section/div/div[1]/div/div/section[2]/div/div[1]/div[1]/div/div[2]/div[9]/div[3]/h5\")\n",
    "        noida_floor.append(f.text)\n",
    "    except NoSuchElementException:\n",
    "        noida_floor.append(np.nan)\n",
    "    try:\n",
    "        p = driver.find_element(By.XPATH,\"/html/body/div[3]/div/div/section/div/div[1]/div/div/section[1]/div/div[1]/div/div/div[1]/div[3]/div[1]/div/div[1]/span\")\n",
    "        noida_price.append(p.text)\n",
    "    except NoSuchElementException:\n",
    "        noida_price.append(np.nan)\n",
    "    try:\n",
    "        A = driver.find_element(By.XPATH,\"/html/body/div[3]/div/div/section/div/div[1]/div/div/section[1]/div/div[1]/div/div/div[1]/div[2]/div[1]/h5\")\n",
    "        noida_address.append(A.text)\n",
    "    except NoSuchElementException:\n",
    "        noida_address.append(np.nan)\n",
    "    try:\n",
    "        r = driver.find_element(By.XPATH,\"/html/body/main/div/div[2]/div[1]/div[3]/div/div[2]/li[3]/span[2]\")\n",
    "        noida_rate.append(r.text)\n",
    "    except NoSuchElementException:\n",
    "        noida_rate.append(np.nan)\n",
    "    try:\n",
    "        B = driver.find_element(By.XPATH,\"/html/body/div[3]/div/div/section/div/div[1]/div/div/section[1]/div/div[2]/div[2]/div/section/div[2]/div[1]/div[2]/span/h4\")\n",
    "        noida_bedroom.append(B.text)\n",
    "    except NoSuchElementException:\n",
    "        noida_bedroom.append(np.nan)\n",
    "    try:\n",
    "        F = driver.find_element(By.XPATH,\"/html/body/div[3]/div/div/section/div/div[1]/div/div/section[2]/div/div[1]/div[1]/div/div[2]/div[7]/div[3]/h5\")\n",
    "        noida_furnish.append(F.text)\n",
    "    except NoSuchElementException:\n",
    "        noida_furnish.append(np.nan)\n",
    "    try:\n",
    "        P = driver.find_element(By.XPATH,\"/html/body/div[3]/div/div/section/div/div[1]/div/div/section[2]/div/div[1]/div[1]/div/div[2]/div[10]/div[3]/h5\")\n",
    "        noida_parking.append(P.text)\n",
    "    except NoSuchElementException:\n",
    "        noida_parking.append(np.nan)\n",
    "    try: \n",
    "        pr = driver.find_element(By.XPATH,\"/html/body/div[3]/div/div/section/div/div[1]/div/div/section[2]/div/div[1]/div[1]/div/div[2]/div[2]/div[3]/h5\")\n",
    "        noida_pro_type.append(pr.text)\n",
    "    except NoSuchElementException:\n",
    "        noida_pro_type.append(np.nan)\n",
    "    try:\n",
    "        fa = driver.find_element(By.XPATH,\"/html/body/div[3]/div/div/section/div/div[1]/div/div/section[2]/div/div[1]/div[1]/div/div[2]/div[8]/div[3]/h5\")\n",
    "        noida_facing.append(fa.text)\n",
    "    except NoSuchElementException:\n",
    "        noida_facing.append(np.nan)\n",
    "        "
   ]
  },
  {
   "cell_type": "code",
   "execution_count": 57,
   "id": "7fe47220",
   "metadata": {},
   "outputs": [],
   "source": [
    "# click home button \n",
    "Home = driver.find_element(By.XPATH,\"/html/body/div[3]/div/div/div[1]/header/div[1]/div[2]/div/img\")\n",
    "Home.click()"
   ]
  },
  {
   "cell_type": "code",
   "execution_count": 100,
   "id": "4846ea89",
   "metadata": {},
   "outputs": [],
   "source": [
    "# click buy button\n",
    "buy = driver.find_element(By.XPATH,\"/html/body/div[3]/div/div/div[1]/div[3]/div[1]\")\n",
    "buy.click()"
   ]
  },
  {
   "cell_type": "code",
   "execution_count": 101,
   "id": "3f808ec4",
   "metadata": {},
   "outputs": [],
   "source": [
    "# click city location \n",
    "bangluru = driver.find_element(By.XPATH,\"/html/body/div[3]/div/div/div[1]/div[4]/div[1]/div/div/div/div[1]/div\")\n",
    "bangluru.click()"
   ]
  },
  {
   "cell_type": "code",
   "execution_count": 102,
   "id": "53767726",
   "metadata": {},
   "outputs": [],
   "source": [
    "# click banglore\n",
    "city = driver.find_element(By.XPATH,\"/html/body/div[3]/div/div/div[1]/div[4]/div[1]/div/div/div/div[1]/div\")\n",
    "city.click()"
   ]
  },
  {
   "cell_type": "code",
   "execution_count": 103,
   "id": "241071d4",
   "metadata": {},
   "outputs": [],
   "source": [
    "# send Agrahara city name for fetch data\n",
    "agrahara = driver.find_element(By.XPATH,\"/html/body/div[3]/div/div/div[1]/div[4]/div[2]/div/div/input\")\n",
    "agrahara.send_keys('Agrahara')"
   ]
  },
  {
   "cell_type": "code",
   "execution_count": 104,
   "id": "242b4b12",
   "metadata": {},
   "outputs": [],
   "source": [
    "# click city addresss\n",
    "agrahara_click = driver.find_element(By.XPATH,\"/html/body/div[3]/div/div/div[1]/div[4]/div[2]/div/div\")\n",
    "agrahara_click.click()"
   ]
  },
  {
   "cell_type": "code",
   "execution_count": 105,
   "id": "f055492f",
   "metadata": {},
   "outputs": [],
   "source": [
    "# click optional address \n",
    "kannu = driver.find_element(By.XPATH,\"/html/body/div[3]/div/div/div[1]/div[5]/div/div[2]/div[2]/span[2]\")\n",
    "kannu.click()"
   ]
  },
  {
   "cell_type": "code",
   "execution_count": 106,
   "id": "564a6dcf",
   "metadata": {},
   "outputs": [],
   "source": [
    "# click option Address\n",
    "kogilu = driver.find_element(By.XPATH,\"/html/body/div[3]/div/div/div[1]/div[5]/div/div[2]/div[3]/span[2]\")\n",
    "kogilu.click()"
   ]
  },
  {
   "cell_type": "code",
   "execution_count": 107,
   "id": "b16417e9",
   "metadata": {},
   "outputs": [],
   "source": [
    "# click search button for fetching data \n",
    "search = driver.find_element(By.XPATH,\"/html/body/div[3]/div/div/div[1]/div[4]/button\")\n",
    "search.click()"
   ]
  },
  {
   "cell_type": "code",
   "execution_count": 109,
   "id": "290f3dbd",
   "metadata": {},
   "outputs": [
    {
     "data": {
      "text/plain": [
       "397"
      ]
     },
     "execution_count": 109,
     "metadata": {},
     "output_type": "execute_result"
    }
   ],
   "source": [
    "# fetching banglore link \n",
    "for _ in range(20):\n",
    "    driver.execute_script(\"window.scrollBy(0,20)\")\n",
    "    time.sleep(20)\n",
    "banglore_url = []\n",
    "banglore_link = driver.find_elements(By.XPATH,'//a[@class=\"overflow-hidden overflow-ellipsis whitespace-nowrap max-w-80pe po:max-w-full\"]')\n",
    "\n",
    "for i in banglore_link:        \n",
    "    banglore_url.append(i.get_attribute('href'))   \n",
    "# print length of url    \n",
    "len(banglore_url)"
   ]
  },
  {
   "cell_type": "code",
   "execution_count": 110,
   "id": "a0828e1c",
   "metadata": {},
   "outputs": [],
   "source": [
    "# create empty list for store featch data \n",
    "\n",
    "banglore_onwer = []\n",
    "banglore_bedroom = []\n",
    "banglore_furnish = []\n",
    "banglore_parking = []\n",
    "banglore_bathroom = []\n",
    "banglore_balcony = []\n",
    "banglore_sq_fit = []\n",
    "banglore_carpet_area = []\n",
    "banglore_rate = []\n",
    "banglore_floor = []\n",
    "banglore_price = []\n",
    "banglore_address = []\n",
    "banglore_facing = []\n",
    "banglore_pro_type = []\n",
    "banglore_bhk = []\n",
    "\n",
    "# featch all mention data \n",
    "\n",
    "for i in banglore_url:\n",
    "    driver.get(i)\n",
    "    time.sleep(5)\n",
    "    try:\n",
    "        o = driver.find_element(By.XPATH,\"/html/body/div[3]/div/div/section/div/div[1]/div/div/section[2]/div/div[1]/div[1]/div/div[2]/div[2]/div[3]/h5\")\n",
    "        banglore_onwer.append(o.text)\n",
    "    except NoSuchElementException:\n",
    "        banglore_onwer.append(np.nan)\n",
    "    try:\n",
    "        bath = driver.find_element(By.XPATH,\"/html/body/div[3]/div/div/section/div/div[1]/div/div/section[1]/div/div[2]/div[2]/div/section/div[2]/div[3]/div[2]/span/h4\")\n",
    "        banglore_bathroom.append(bath.text)\n",
    "    except NoSuchElementException:\n",
    "        banglore_bathroom.append(np.nan)\n",
    "    try:\n",
    "        BA = driver.find_element(By.XPATH,\"/html/body/div[3]/div/div/section/div/div[1]/div/div/section[1]/div/div[2]/div[2]/div/section/div[2]/div[5]/div[2]/span/h4\")\n",
    "        banglore_balcony.append(BA.text)\n",
    "    except NoSuchElementException:\n",
    "        banglore_balcony.append(np.nan)\n",
    "    try:\n",
    "        bh = driver.find_element(By.XPATH,\"/html/body/div[3]/div/div/section/div/div[1]/div/div/section[1]/div/div[2]/div[2]/div/section/div[2]/div[1]/div[2]/span/h4\")\n",
    "        banglore_bhk.append(bh.text)\n",
    "    except NoSuchElementException:\n",
    "        banglore_bhk.append(np.nan)    \n",
    "\n",
    "    try:\n",
    "        sq = driver.find_element(By.XPATH,\"/html/body/div[3]/div/div/section/div/div[1]/div/div/section[2]/div/div[1]/div[1]/div/div[2]/div[5]/div[3]\")\n",
    "        banglore_sq_fit.append(sq.text)\n",
    "    except NoSuchElementException:\n",
    "        banglore_sq_fit.append(np.nan)\n",
    "    try:\n",
    "        c = driver.find_element(By.XPATH,\"/html/body/div[3]/div/div/section/div/div[1]/div/div/section[2]/div/div[1]/div[1]/div/div[2]/div[6]/div[3]/h5\")\n",
    "        banglore_carpet_area.append(c.text)\n",
    "    except NoSuchElementException:\n",
    "        banglore_carpet_area.append(np.nan)\n",
    "    try:\n",
    "        f = driver.find_element(By.XPATH,\"/html/body/div[3]/div/div/section/div/div[1]/div/div/section[2]/div/div[1]/div[1]/div/div[2]/div[9]/div[3]/h5\")\n",
    "        banglore_floor.append(f.text)\n",
    "    except NoSuchElementException:\n",
    "        banglore_floor.append(np.nan)\n",
    "    try:\n",
    "        p = driver.find_element(By.XPATH,\"/html/body/div[3]/div/div/section/div/div[1]/div/div/section[1]/div/div[1]/div/div/div[1]/div[3]/div[1]/div/div[1]/span\")\n",
    "        banglore_price.append(p.text)\n",
    "    except NoSuchElementException:\n",
    "        banglore_price.append(np.nan)\n",
    "    try:\n",
    "        A = driver.find_element(By.XPATH,\"/html/body/div[3]/div/div/section/div/div[1]/div/div/section[1]/div/div[1]/div/div/div[1]/div[2]/div[1]/h5\")\n",
    "        banglore_address.append(A.text)\n",
    "    except NoSuchElementException:\n",
    "        banglore_address.append(np.nan)\n",
    "    try:\n",
    "        r = driver.find_element(By.XPATH,\"/html/body/main/div/div[2]/div[1]/div[3]/div/div[2]/li[3]/span[2]\")\n",
    "        banglore_rate.append(r.text)\n",
    "    except NoSuchElementException:\n",
    "        banglore_rate.append(np.nan)\n",
    "    try:\n",
    "        B = driver.find_element(By.XPATH,\"/html/body/div[3]/div/div/section/div/div[1]/div/div/section[1]/div/div[2]/div[2]/div/section/div[2]/div[1]/div[2]/span/h4\")\n",
    "        banglore_bedroom.append(B.text)\n",
    "    except NoSuchElementException:\n",
    "        banglore_bedroom.append(np.nan)\n",
    "    try:\n",
    "        F = driver.find_element(By.XPATH,\"/html/body/div[3]/div/div/section/div/div[1]/div/div/section[2]/div/div[1]/div[1]/div/div[2]/div[7]/div[3]/h5\")\n",
    "        banglore_furnish.append(F.text)\n",
    "    except NoSuchElementException:\n",
    "        banglore_furnish.append(np.nan)\n",
    "    try:\n",
    "        P = driver.find_element(By.XPATH,\"/html/body/div[3]/div/div/section/div/div[1]/div/div/section[2]/div/div[1]/div[1]/div/div[2]/div[10]/div[3]/h5\")\n",
    "        banglore_parking.append(P.text)\n",
    "    except NoSuchElementException:\n",
    "        banglore_parking.append(np.nan)\n",
    "    try: \n",
    "        pr = driver.find_element(By.XPATH,\"/html/body/div[3]/div/div/section/div/div[1]/div/div/section[2]/div/div[1]/div[1]/div/div[2]/div[2]/div[3]/h5\")\n",
    "        banglore_pro_type.append(pr.text)\n",
    "    except NoSuchElementException:\n",
    "        banglore_pro_type.append(np.nan)\n",
    "    try:\n",
    "        fa = driver.find_element(By.XPATH,\"/html/body/div[3]/div/div/section/div/div[1]/div/div/section[2]/div/div[1]/div[1]/div/div[2]/div[8]/div[3]/h5\")\n",
    "        banglore_facing.append(fa.text)\n",
    "    except NoSuchElementException:\n",
    "        banglore_facing.append(np.nan)\n",
    "        "
   ]
  },
  {
   "cell_type": "code",
   "execution_count": 72,
   "id": "f519030a",
   "metadata": {},
   "outputs": [],
   "source": [
    "# click home button \n",
    "Home = driver.find_element(By.XPATH,\"/html/body/div[3]/div/main/div[1]/header/div[1]/div[2]/div/img\")\n",
    "Home.click()"
   ]
  },
  {
   "cell_type": "code",
   "execution_count": 73,
   "id": "736f9381",
   "metadata": {},
   "outputs": [],
   "source": [
    "# click buy button \n",
    "buy = driver.find_element(By.XPATH,\"/html/body/div[3]/div/div/div[1]/div[3]/div[1]\")\n",
    "buy.click()"
   ]
  },
  {
   "cell_type": "code",
   "execution_count": 74,
   "id": "f3d46154",
   "metadata": {},
   "outputs": [],
   "source": [
    "# click city location \n",
    "chennai = driver.find_element(By.XPATH,\"/html/body/div[3]/div/div/div[1]/div[4]/div[1]/div/div/div/div[1]/div\")\n",
    "chennai.click()"
   ]
  },
  {
   "cell_type": "code",
   "execution_count": 75,
   "id": "9d576868",
   "metadata": {},
   "outputs": [],
   "source": [
    "# click chennai city \n",
    "city = driver.find_element(By.XPATH,\"/html/body/div[3]/div/div/div[1]/div[4]/div[1]/div/div/div/div[1]/div\")\n",
    "city.click()"
   ]
  },
  {
   "cell_type": "code",
   "execution_count": 76,
   "id": "2889c03b",
   "metadata": {},
   "outputs": [],
   "source": [
    "# send chennai city area name for featching data \n",
    "konnur = driver.find_element(By.XPATH,\"/html/body/div[3]/div/div/div[1]/div[4]/div[2]/div/div/input\")\n",
    "konnur.send_keys('Konnur')"
   ]
  },
  {
   "cell_type": "code",
   "execution_count": 77,
   "id": "48c769a0",
   "metadata": {},
   "outputs": [],
   "source": [
    "# click area address \n",
    "konnur_click = driver.find_element(By.XPATH,\"/html/body/div[3]/div/div/div[1]/div[4]/div[2]/div/div\")\n",
    "konnur_click.click()"
   ]
  },
  {
   "cell_type": "code",
   "execution_count": 78,
   "id": "02348290",
   "metadata": {},
   "outputs": [],
   "source": [
    "# click option area address \n",
    "anna = driver.find_element(By.XPATH,\"/html/body/div[3]/div/div/div[1]/div[5]/div/div[2]/div[5]/span[2]\")\n",
    "anna.click()"
   ]
  },
  {
   "cell_type": "code",
   "execution_count": 79,
   "id": "1e74fab1",
   "metadata": {},
   "outputs": [],
   "source": [
    "# click search button \n",
    "search = driver.find_element(By.XPATH,\"/html/body/div[3]/div/div/div[1]/div[4]/button\")\n",
    "search.click()"
   ]
  },
  {
   "cell_type": "code",
   "execution_count": 80,
   "id": "0741ab22",
   "metadata": {},
   "outputs": [
    {
     "data": {
      "text/plain": [
       "191"
      ]
     },
     "execution_count": 80,
     "metadata": {},
     "output_type": "execute_result"
    }
   ],
   "source": [
    "# fetching chennai link \n",
    "for _ in range(20):\n",
    "    driver.execute_script(\"window.scrollBy(0,20)\")\n",
    "    time.sleep(20)\n",
    "chennai_url = []\n",
    "chennai_link = driver.find_elements(By.XPATH,'//a[@class=\"overflow-hidden overflow-ellipsis whitespace-nowrap max-w-80pe po:max-w-full\"]')\n",
    "\n",
    "for i in chennai_link:        \n",
    "    chennai_url.append(i.get_attribute('href'))   \n",
    "# print length of url    \n",
    "len(chennai_url)"
   ]
  },
  {
   "cell_type": "code",
   "execution_count": 81,
   "id": "9e14265c",
   "metadata": {},
   "outputs": [],
   "source": [
    "# create empty list for store featch data \n",
    "chennai_onwer = []\n",
    "chennai_bedroom = []\n",
    "chennai_furnish = []\n",
    "chennai_parking = []\n",
    "chennai_bathroom = []\n",
    "chennai_balcony = []\n",
    "chennai_sq_fit = []\n",
    "chennai_carpet_area = []\n",
    "chennai_rate = []\n",
    "chennai_floor = []\n",
    "chennai_price = []\n",
    "chennai_address = []\n",
    "chennai_facing = []\n",
    "chennai_pro_type = []\n",
    "chennai_bhk = []\n",
    "\n",
    "# featch all mention data \n",
    "\n",
    "for i in chennai_url:\n",
    "    driver.get(i)\n",
    "    time.sleep(5)\n",
    "    try:\n",
    "        o = driver.find_element(By.XPATH,\"/html/body/div[3]/div/div/section/div/div[1]/div/div/section[2]/div/div[1]/div[1]/div/div[2]/div[2]/div[3]/h5\")\n",
    "        chennai_onwer.append(o.text)\n",
    "    except NoSuchElementException:\n",
    "        chennai_onwer.append(np.nan)\n",
    "    try:\n",
    "        bath = driver.find_element(By.XPATH,\"/html/body/div[3]/div/div/section/div/div[1]/div/div/section[1]/div/div[2]/div[2]/div/section/div[2]/div[3]/div[2]/span/h4\")\n",
    "        chennai_bathroom.append(bath.text)\n",
    "    except NoSuchElementException:\n",
    "        chennai_bathroom.append(np.nan)\n",
    "    try:\n",
    "        BA = driver.find_element(By.XPATH,\"/html/body/div[3]/div/div/section/div/div[1]/div/div/section[1]/div/div[2]/div[2]/div/section/div[2]/div[5]/div[2]/span/h4\")\n",
    "        chennai_balcony.append(BA.text)\n",
    "    except NoSuchElementException:\n",
    "        chennai_balcony.append(np.nan)\n",
    "    try:\n",
    "        bh = driver.find_element(By.XPATH,\"/html/body/div[3]/div/div/section/div/div[1]/div/div/section[1]/div/div[2]/div[2]/div/section/div[2]/div[1]/div[2]/span/h4\")\n",
    "        chennai_bhk.append(bh.text)\n",
    "    except NoSuchElementException:\n",
    "        chennai_bhk.append(np.nan)    \n",
    "\n",
    "    try:\n",
    "        sq = driver.find_element(By.XPATH,\"/html/body/div[3]/div/div/section/div/div[1]/div/div/section[2]/div/div[1]/div[1]/div/div[2]/div[5]/div[3]\")\n",
    "        chennai_sq_fit.append(sq.text)\n",
    "    except NoSuchElementException:\n",
    "        chennai_sq_fit.append(np.nan)\n",
    "    try:\n",
    "        c = driver.find_element(By.XPATH,\"/html/body/div[3]/div/div/section/div/div[1]/div/div/section[2]/div/div[1]/div[1]/div/div[2]/div[6]/div[3]/h5\")\n",
    "        chennai_carpet_area.append(c.text)\n",
    "    except NoSuchElementException:\n",
    "        chennai_carpet_area.append(np.nan)\n",
    "    try:\n",
    "        f = driver.find_element(By.XPATH,\"/html/body/div[3]/div/div/section/div/div[1]/div/div/section[2]/div/div[1]/div[1]/div/div[2]/div[9]/div[3]/h5\")\n",
    "        chennai_floor.append(f.text)\n",
    "    except NoSuchElementException:\n",
    "        chennai_floor.append(np.nan)\n",
    "    try:\n",
    "        p = driver.find_element(By.XPATH,\"/html/body/div[3]/div/div/section/div/div[1]/div/div/section[1]/div/div[1]/div/div/div[1]/div[3]/div[1]/div/div[1]/span\")\n",
    "        chennai_price.append(p.text)\n",
    "    except NoSuchElementException:\n",
    "        chennai_price.append(np.nan)\n",
    "    try:\n",
    "        A = driver.find_element(By.XPATH,\"/html/body/div[3]/div/div/section/div/div[1]/div/div/section[1]/div/div[1]/div/div/div[1]/div[2]/div[1]/h5\")\n",
    "        chennai_address.append(A.text)\n",
    "    except NoSuchElementException:\n",
    "        chennai_address.append(np.nan)\n",
    "    try:\n",
    "        r = driver.find_element(By.XPATH,\"/html/body/main/div/div[2]/div[1]/div[3]/div/div[2]/li[3]/span[2]\")\n",
    "        chennai_rate.append(r.text)\n",
    "    except NoSuchElementException:\n",
    "        chennai_rate.append(np.nan)\n",
    "    try:\n",
    "        B = driver.find_element(By.XPATH,\"/html/body/div[3]/div/div/section/div/div[1]/div/div/section[1]/div/div[2]/div[2]/div/section/div[2]/div[1]/div[2]/span/h4\")\n",
    "        chennai_bedroom.append(B.text)\n",
    "    except NoSuchElementException:\n",
    "        chennai_bedroom.append(np.nan)\n",
    "    try:\n",
    "        F = driver.find_element(By.XPATH,\"/html/body/div[3]/div/div/section/div/div[1]/div/div/section[2]/div/div[1]/div[1]/div/div[2]/div[7]/div[3]/h5\")\n",
    "        chennai_furnish.append(F.text)\n",
    "    except NoSuchElementException:\n",
    "        chennai_furnish.append(np.nan)\n",
    "    try:\n",
    "        P = driver.find_element(By.XPATH,\"/html/body/div[3]/div/div/section/div/div[1]/div/div/section[2]/div/div[1]/div[1]/div/div[2]/div[10]/div[3]/h5\")\n",
    "        chennai_parking.append(P.text)\n",
    "    except NoSuchElementException:\n",
    "        chennai_parking.append(np.nan)\n",
    "    try: \n",
    "        pr = driver.find_element(By.XPATH,\"/html/body/div[3]/div/div/section/div/div[1]/div/div/section[2]/div/div[1]/div[1]/div/div[2]/div[2]/div[3]/h5\")\n",
    "        chennai_pro_type.append(pr.text)\n",
    "    except NoSuchElementException:\n",
    "        chennai_pro_type.append(np.nan)\n",
    "    try:\n",
    "        fa = driver.find_element(By.XPATH,\"/html/body/div[3]/div/div/section/div/div[1]/div/div/section[2]/div/div[1]/div[1]/div/div[2]/div[8]/div[3]/h5\")\n",
    "        chennai_facing.append(fa.text)\n",
    "    except NoSuchElementException:\n",
    "        chennai_facing.append(np.nan)\n",
    "        "
   ]
  },
  {
   "cell_type": "code",
   "execution_count": 113,
   "id": "ebb84f91",
   "metadata": {},
   "outputs": [],
   "source": [
    "# click home button\n",
    "Home = driver.find_element(By.XPATH,\"/html/body/div[3]/div/div/div[1]/header/div[1]/div[2]/div/img\")\n",
    "Home.click()"
   ]
  },
  {
   "cell_type": "code",
   "execution_count": 114,
   "id": "44c73780",
   "metadata": {},
   "outputs": [],
   "source": [
    "# click buy button \n",
    "buy = driver.find_element(By.XPATH,\"/html/body/div[3]/div/div/div[1]/div[3]/div[1]\")\n",
    "buy.click()"
   ]
  },
  {
   "cell_type": "code",
   "execution_count": 115,
   "id": "b086f4ab",
   "metadata": {},
   "outputs": [],
   "source": [
    "# click city location \n",
    "gurgaon = driver.find_element(By.XPATH,\"/html/body/div[3]/div/div/div[1]/div[4]/div[1]/div/div/div/div[1]/div\")\n",
    "gurgaon.click()"
   ]
  },
  {
   "cell_type": "code",
   "execution_count": 116,
   "id": "b536891b",
   "metadata": {},
   "outputs": [],
   "source": [
    "# select and click gurgaon city \n",
    "city = driver.find_element(By.XPATH,\"/html/body/div[3]/div/div/div[1]/div[4]/div[1]/div/div/div/div[1]/div\")\n",
    "city.click()"
   ]
  },
  {
   "cell_type": "code",
   "execution_count": 117,
   "id": "aa7504be",
   "metadata": {},
   "outputs": [],
   "source": [
    "# send gurgaon area location for featch data \n",
    "gurgaon = driver.find_element(By.XPATH,\"/html/body/div[3]/div/div/div[1]/div[4]/div[2]/div/div/input\")\n",
    "gurgaon.send_keys('Gurgaon')"
   ]
  },
  {
   "cell_type": "code",
   "execution_count": 118,
   "id": "8ceef76b",
   "metadata": {},
   "outputs": [],
   "source": [
    "# click gurgaon \n",
    "gurgaon_click = driver.find_element(By.XPATH,\"/html/body/div[3]/div/div/div[1]/div[4]/div[2]/div/div\")\n",
    "gurgaon_click.click()"
   ]
  },
  {
   "cell_type": "code",
   "execution_count": 119,
   "id": "bc109a56",
   "metadata": {},
   "outputs": [],
   "source": [
    "# click search button\n",
    "search = driver.find_element(By.XPATH,\"/html/body/div[3]/div/div/div[1]/div[4]/button\")\n",
    "search.click()"
   ]
  },
  {
   "cell_type": "code",
   "execution_count": 120,
   "id": "c7796e99",
   "metadata": {},
   "outputs": [
    {
     "data": {
      "text/plain": [
       "181"
      ]
     },
     "execution_count": 120,
     "metadata": {},
     "output_type": "execute_result"
    }
   ],
   "source": [
    "# fetching gurgaon link \n",
    "for _ in range(20):\n",
    "    driver.execute_script(\"window.scrollBy(0,20)\")\n",
    "    time.sleep(20)\n",
    "gurgaon_url = []\n",
    "gurgaon_link = driver.find_elements(By.XPATH,'//a[@class=\"overflow-hidden overflow-ellipsis whitespace-nowrap max-w-80pe po:max-w-full\"]')\n",
    "\n",
    "for i in gurgaon_link:        \n",
    "    gurgaon_url.append(i.get_attribute('href'))   \n",
    "# print length of url    \n",
    "len(gurgaon_url)"
   ]
  },
  {
   "cell_type": "code",
   "execution_count": 121,
   "id": "01ed02a4",
   "metadata": {},
   "outputs": [],
   "source": [
    "# create empty list for featch data store\n",
    "gurgaon_onwer = []\n",
    "gurgaon_bedroom = []\n",
    "gurgaon_furnish = []\n",
    "gurgaon_parking = []\n",
    "gurgaon_bathroom = []\n",
    "gurgaon_balcony = []\n",
    "gurgaon_sq_fit = []\n",
    "gurgaon_carpet_area = []\n",
    "gurgaon_rate = []\n",
    "gurgaon_floor = []\n",
    "gurgaon_price = []\n",
    "gurgaon_address = []\n",
    "gurgaon_facing = []\n",
    "gurgaon_pro_type = []\n",
    "gurgaon_bhk = []\n",
    "\n",
    "# featch all mention data \n",
    "\n",
    "for i in gurgaon_url:\n",
    "    driver.get(i)\n",
    "    time.sleep(5)\n",
    "    try:\n",
    "        o = driver.find_element(By.XPATH,\"/html/body/div[3]/div/div/section/div/div[1]/div/div/section[2]/div/div[1]/div[1]/div/div[2]/div[2]/div[3]/h5\")\n",
    "        gurgaon_onwer.append(o.text)\n",
    "    except NoSuchElementException:\n",
    "        gurgaon_onwer.append(np.nan)\n",
    "    try:\n",
    "        bath = driver.find_element(By.XPATH,\"/html/body/div[3]/div/div/section/div/div[1]/div/div/section[1]/div/div[2]/div[2]/div/section/div[2]/div[3]/div[2]/span/h4\")\n",
    "        gurgaon_bathroom.append(bath.text)\n",
    "    except NoSuchElementException:\n",
    "        gurgaon_bathroom.append(np.nan)\n",
    "    try:\n",
    "        BA = driver.find_element(By.XPATH,\"/html/body/div[3]/div/div/section/div/div[1]/div/div/section[1]/div/div[2]/div[2]/div/section/div[2]/div[5]/div[2]/span/h4\")\n",
    "        gurgaon_balcony.append(BA.text)\n",
    "    except NoSuchElementException:\n",
    "        gurgaon_balcony.append(np.nan)\n",
    "    try:\n",
    "        bh = driver.find_element(By.XPATH,\"/html/body/div[3]/div/div/section/div/div[1]/div/div/section[1]/div/div[2]/div[2]/div/section/div[2]/div[1]/div[2]/span/h4\")\n",
    "        gurgaon_bhk.append(bh.text)\n",
    "    except NoSuchElementException:\n",
    "        gurgaon_bhk.append(np.nan)    \n",
    "\n",
    "    try:\n",
    "        sq = driver.find_element(By.XPATH,\"/html/body/div[3]/div/div/section/div/div[1]/div/div/section[2]/div/div[1]/div[1]/div/div[2]/div[5]/div[3]\")\n",
    "        gurgaon_sq_fit.append(sq.text)\n",
    "    except NoSuchElementException:\n",
    "        gurgaon_sq_fit.append(np.nan)\n",
    "    try:\n",
    "        c = driver.find_element(By.XPATH,\"/html/body/div[3]/div/div/section/div/div[1]/div/div/section[2]/div/div[1]/div[1]/div/div[2]/div[6]/div[3]/h5\")\n",
    "        gurgaon_carpet_area.append(c.text)\n",
    "    except NoSuchElementException:\n",
    "        gurgaon_carpet_area.append(np.nan)\n",
    "    try:\n",
    "        f = driver.find_element(By.XPATH,\"/html/body/div[3]/div/div/section/div/div[1]/div/div/section[2]/div/div[1]/div[1]/div/div[2]/div[9]/div[3]/h5\")\n",
    "        gurgaon_floor.append(f.text)\n",
    "    except NoSuchElementException:\n",
    "        gurgaon_floor.append(np.nan)\n",
    "    try:\n",
    "        p = driver.find_element(By.XPATH,\"/html/body/div[3]/div/div/section/div/div[1]/div/div/section[1]/div/div[1]/div/div/div[1]/div[3]/div[1]/div/div[1]/span\")\n",
    "        gurgaon_price.append(p.text)\n",
    "    except NoSuchElementException:\n",
    "        gurgaon_price.append(np.nan)\n",
    "    try:\n",
    "        A = driver.find_element(By.XPATH,\"/html/body/div[3]/div/div/section/div/div[1]/div/div/section[1]/div/div[1]/div/div/div[1]/div[2]/div[1]/h5\")\n",
    "        gurgaon_address.append(A.text)\n",
    "    except NoSuchElementException:\n",
    "        gurgaon_address.append(np.nan)\n",
    "    try:\n",
    "        r = driver.find_element(By.XPATH,\"/html/body/main/div/div[2]/div[1]/div[3]/div/div[2]/li[3]/span[2]\")\n",
    "        gurgaon_rate.append(r.text)\n",
    "    except NoSuchElementException:\n",
    "        gurgaon_rate.append(np.nan)\n",
    "    try:\n",
    "        B = driver.find_element(By.XPATH,\"/html/body/div[3]/div/div/section/div/div[1]/div/div/section[1]/div/div[2]/div[2]/div/section/div[2]/div[1]/div[2]/span/h4\")\n",
    "        gurgaon_bedroom.append(B.text)\n",
    "    except NoSuchElementException:\n",
    "        gurgaon_bedroom.append(np.nan)\n",
    "    try:\n",
    "        F = driver.find_element(By.XPATH,\"/html/body/div[3]/div/div/section/div/div[1]/div/div/section[2]/div/div[1]/div[1]/div/div[2]/div[7]/div[3]/h5\")\n",
    "        gurgaon_furnish.append(F.text)\n",
    "    except NoSuchElementException:\n",
    "        gurgaon_furnish.append(np.nan)\n",
    "    try:\n",
    "        P = driver.find_element(By.XPATH,\"/html/body/div[3]/div/div/section/div/div[1]/div/div/section[2]/div/div[1]/div[1]/div/div[2]/div[10]/div[3]/h5\")\n",
    "        gurgaon_parking.append(P.text)\n",
    "    except NoSuchElementException:\n",
    "        gurgaon_parking.append(np.nan)\n",
    "    try: \n",
    "        pr = driver.find_element(By.XPATH,\"/html/body/div[3]/div/div/section/div/div[1]/div/div/section[2]/div/div[1]/div[1]/div/div[2]/div[2]/div[3]/h5\")\n",
    "        gurgaon_pro_type.append(pr.text)\n",
    "    except NoSuchElementException:\n",
    "        gurgaon_pro_type.append(np.nan)\n",
    "    try:\n",
    "        fa = driver.find_element(By.XPATH,\"/html/body/div[3]/div/div/section/div/div[1]/div/div/section[2]/div/div[1]/div[1]/div/div[2]/div[8]/div[3]/h5\")\n",
    "        gurgaon_facing.append(fa.text)\n",
    "    except NoSuchElementException:\n",
    "        gurgaon_facing.append(np.nan)\n",
    "        "
   ]
  },
  {
   "cell_type": "code",
   "execution_count": 122,
   "id": "0c00d54e",
   "metadata": {},
   "outputs": [],
   "source": [
    "# click home button\n",
    "Home = driver.find_element(By.XPATH,\"/html/body/div[3]/div/div/div[1]/header/div[1]/div[2]/div/img\")\n",
    "Home.click()"
   ]
  },
  {
   "cell_type": "code",
   "execution_count": 123,
   "id": "fde65229",
   "metadata": {},
   "outputs": [],
   "source": [
    "# click buy button \n",
    "buy = driver.find_element(By.XPATH,\"/html/body/div[3]/div/div/div[1]/div[3]/div[1]\")\n",
    "buy.click()"
   ]
  },
  {
   "cell_type": "code",
   "execution_count": 124,
   "id": "8d2f1bb3",
   "metadata": {},
   "outputs": [],
   "source": [
    "# click city location \n",
    "pune = driver.find_element(By.XPATH,\"/html/body/div[3]/div/div/div[1]/div[4]/div[1]/div/div/div/div[1]/div\")\n",
    "pune.click()"
   ]
  },
  {
   "cell_type": "code",
   "execution_count": 125,
   "id": "a4644d5b",
   "metadata": {},
   "outputs": [],
   "source": [
    "# click pune city for featch data \n",
    "city = driver.find_element(By.XPATH,\"/html/body/div[3]/div/div/div[1]/div[4]/div[1]/div/div/div/div[1]/div\")\n",
    "city.click()"
   ]
  },
  {
   "cell_type": "code",
   "execution_count": 126,
   "id": "a858236a",
   "metadata": {},
   "outputs": [],
   "source": [
    "# send pune area name for featch data \n",
    "chakan = driver.find_element(By.XPATH,\"/html/body/div[3]/div/div/div[1]/div[4]/div[2]/div/div/input\")\n",
    "chakan.send_keys('Chakan')"
   ]
  },
  {
   "cell_type": "code",
   "execution_count": 127,
   "id": "3cf69ea3",
   "metadata": {},
   "outputs": [],
   "source": [
    "# click area address \n",
    "chakan_click = driver.find_element(By.XPATH,\"/html/body/div[3]/div/div/div[1]/div[4]/div[2]/div/div\")\n",
    "chakan_click.click()"
   ]
  },
  {
   "cell_type": "code",
   "execution_count": 128,
   "id": "a9a5bb66",
   "metadata": {},
   "outputs": [],
   "source": [
    "# click search button\n",
    "search = driver.find_element(By.XPATH,\"/html/body/div[3]/div/div/div[1]/div[4]/button\")\n",
    "search.click()"
   ]
  },
  {
   "cell_type": "code",
   "execution_count": 129,
   "id": "991ccd65",
   "metadata": {},
   "outputs": [
    {
     "data": {
      "text/plain": [
       "307"
      ]
     },
     "execution_count": 129,
     "metadata": {},
     "output_type": "execute_result"
    }
   ],
   "source": [
    "# fetching pune link \n",
    "for _ in range(20):\n",
    "    driver.execute_script(\"window.scrollBy(0,20)\")\n",
    "    time.sleep(20)\n",
    "chakan_url = []\n",
    "chakan_link = driver.find_elements(By.XPATH,'//a[@class=\"overflow-hidden overflow-ellipsis whitespace-nowrap max-w-80pe po:max-w-full\"]')\n",
    "\n",
    "for i in chakan_link:        \n",
    "    chakan_url.append(i.get_attribute('href'))   \n",
    "# print length of url    \n",
    "len(chakan_url)"
   ]
  },
  {
   "cell_type": "code",
   "execution_count": 130,
   "id": "c65f558e",
   "metadata": {},
   "outputs": [],
   "source": [
    "# create empty list for stored featch data \n",
    "\n",
    "chakan_onwer = []\n",
    "chakan_bedroom = []\n",
    "chakan_furnish = []\n",
    "chakan_parking = []\n",
    "chakan_bathroom = []\n",
    "chakan_balcony = []\n",
    "chakan_sq_fit = []\n",
    "chakan_carpet_area = []\n",
    "chakan_rate = []\n",
    "chakan_floor = []\n",
    "chakan_price = []\n",
    "chakan_address = []\n",
    "chakan_facing = []\n",
    "chakan_pro_type = []\n",
    "chakan_bhk = []\n",
    "\n",
    "# featch all mention data \n",
    "\n",
    "for i in chakan_url:\n",
    "    driver.get(i)\n",
    "    time.sleep(5)\n",
    "    try:\n",
    "        o = driver.find_element(By.XPATH,\"/html/body/div[3]/div/div/section/div/div[1]/div/div/section[2]/div/div[1]/div[1]/div/div[2]/div[2]/div[3]/h5\")\n",
    "        chakan_onwer.append(o.text)\n",
    "    except NoSuchElementException:\n",
    "        chakan_onwer.append(np.nan)\n",
    "    try:\n",
    "        bath = driver.find_element(By.XPATH,\"/html/body/div[3]/div/div/section/div/div[1]/div/div/section[1]/div/div[2]/div[2]/div/section/div[2]/div[3]/div[2]/span/h4\")\n",
    "        chakan_bathroom.append(bath.text)\n",
    "    except NoSuchElementException:\n",
    "        chakan_bathroom.append(np.nan)\n",
    "    try:\n",
    "        BA = driver.find_element(By.XPATH,\"/html/body/div[3]/div/div/section/div/div[1]/div/div/section[1]/div/div[2]/div[2]/div/section/div[2]/div[5]/div[2]/span/h4\")\n",
    "        chakan_balcony.append(BA.text)\n",
    "    except NoSuchElementException:\n",
    "        chakan_balcony.append(np.nan)\n",
    "    try:\n",
    "        bh = driver.find_element(By.XPATH,\"/html/body/div[3]/div/div/section/div/div[1]/div/div/section[1]/div/div[2]/div[2]/div/section/div[2]/div[1]/div[2]/span/h4\")\n",
    "        chakan_bhk.append(bh.text)\n",
    "    except NoSuchElementException:\n",
    "        chakan_bhk.append(np.nan)    \n",
    "\n",
    "    try:\n",
    "        sq = driver.find_element(By.XPATH,\"/html/body/div[3]/div/div/section/div/div[1]/div/div/section[2]/div/div[1]/div[1]/div/div[2]/div[5]/div[3]\")\n",
    "        chakan_sq_fit.append(sq.text)\n",
    "    except NoSuchElementException:\n",
    "        chakan_sq_fit.append(np.nan)\n",
    "    try:\n",
    "        c = driver.find_element(By.XPATH,\"/html/body/div[3]/div/div/section/div/div[1]/div/div/section[2]/div/div[1]/div[1]/div/div[2]/div[6]/div[3]/h5\")\n",
    "        chakan_carpet_area.append(c.text)\n",
    "    except NoSuchElementException:\n",
    "        chakan_carpet_area.append(np.nan)\n",
    "    try:\n",
    "        f = driver.find_element(By.XPATH,\"/html/body/div[3]/div/div/section/div/div[1]/div/div/section[2]/div/div[1]/div[1]/div/div[2]/div[9]/div[3]/h5\")\n",
    "        chakan_floor.append(f.text)\n",
    "    except NoSuchElementException:\n",
    "        chakan_floor.append(np.nan)\n",
    "    try:\n",
    "        p = driver.find_element(By.XPATH,\"/html/body/div[3]/div/div/section/div/div[1]/div/div/section[1]/div/div[1]/div/div/div[1]/div[3]/div[1]/div/div[1]/span\")\n",
    "        chakan_price.append(p.text)\n",
    "    except NoSuchElementException:\n",
    "        chakan_price.append(np.nan)\n",
    "    try:\n",
    "        A = driver.find_element(By.XPATH,\"/html/body/div[3]/div/div/section/div/div[1]/div/div/section[1]/div/div[1]/div/div/div[1]/div[2]/div[1]/h5\")\n",
    "        chakan_address.append(A.text)\n",
    "    except NoSuchElementException:\n",
    "        chakan_address.append(np.nan)\n",
    "    try:\n",
    "        r = driver.find_element(By.XPATH,\"/html/body/main/div/div[2]/div[1]/div[3]/div/div[2]/li[3]/span[2]\")\n",
    "        chakan_rate.append(r.text)\n",
    "    except NoSuchElementException:\n",
    "        chakan_rate.append(np.nan)\n",
    "    try:\n",
    "        B = driver.find_element(By.XPATH,\"/html/body/div[3]/div/div/section/div/div[1]/div/div/section[1]/div/div[2]/div[2]/div/section/div[2]/div[1]/div[2]/span/h4\")\n",
    "        chakan_bedroom.append(B.text)\n",
    "    except NoSuchElementException:\n",
    "        chakan_bedroom.append(np.nan)\n",
    "    try:\n",
    "        F = driver.find_element(By.XPATH,\"/html/body/div[3]/div/div/section/div/div[1]/div/div/section[2]/div/div[1]/div[1]/div/div[2]/div[7]/div[3]/h5\")\n",
    "        chakan_furnish.append(F.text)\n",
    "    except NoSuchElementException:\n",
    "        chakan_furnish.append(np.nan)\n",
    "    try:\n",
    "        P = driver.find_element(By.XPATH,\"/html/body/div[3]/div/div/section/div/div[1]/div/div/section[2]/div/div[1]/div[1]/div/div[2]/div[10]/div[3]/h5\")\n",
    "        chakan_parking.append(P.text)\n",
    "    except NoSuchElementException:\n",
    "        chakan_parking.append(np.nan)\n",
    "    try: \n",
    "        pr = driver.find_element(By.XPATH,\"/html/body/div[3]/div/div/section/div/div[1]/div/div/section[2]/div/div[1]/div[1]/div/div[2]/div[2]/div[3]/h5\")\n",
    "        chakan_pro_type.append(pr.text)\n",
    "    except NoSuchElementException:\n",
    "        chakan_pro_type.append(np.nan)\n",
    "    try:\n",
    "        fa = driver.find_element(By.XPATH,\"/html/body/div[3]/div/div/section/div/div[1]/div/div/section[2]/div/div[1]/div[1]/div/div[2]/div[8]/div[3]/h5\")\n",
    "        chakan_facing.append(fa.text)\n",
    "    except NoSuchElementException:\n",
    "        chakan_facing.append(np.nan)\n",
    "        "
   ]
  },
  {
   "cell_type": "code",
   "execution_count": 131,
   "id": "e5c4bcc4",
   "metadata": {},
   "outputs": [],
   "source": [
    "# click home button\n",
    "Home = driver.find_element(By.XPATH,\"/html/body/div[3]/div/div/div[1]/header/div[1]/div[2]/div/img\")\n",
    "Home.click()"
   ]
  },
  {
   "cell_type": "code",
   "execution_count": 132,
   "id": "7c7df870",
   "metadata": {},
   "outputs": [],
   "source": [
    "# click buy button\n",
    "buy = driver.find_element(By.XPATH,\"/html/body/div[3]/div/div/div[1]/div[3]/div[1]\")\n",
    "buy.click()"
   ]
  },
  {
   "cell_type": "code",
   "execution_count": 133,
   "id": "27fe3177",
   "metadata": {},
   "outputs": [],
   "source": [
    "# click city location \n",
    "hydrabad = driver.find_element(By.XPATH,\"/html/body/div[3]/div/div/div[1]/div[4]/div[1]/div/div/div/div[1]/div\")\n",
    "hydrabad.click()"
   ]
  },
  {
   "cell_type": "code",
   "execution_count": 134,
   "id": "a17d824d",
   "metadata": {},
   "outputs": [],
   "source": [
    "# click hydrabad city \n",
    "city = driver.find_element(By.XPATH,\"/html/body/div[3]/div/div/div[1]/div[4]/div[1]/div/div/div/div[1]/div\")\n",
    "city.click()"
   ]
  },
  {
   "cell_type": "code",
   "execution_count": 135,
   "id": "ab7c9ead",
   "metadata": {},
   "outputs": [],
   "source": [
    "# send hydrabad area location \n",
    "hydrabad = driver.find_element(By.XPATH,\"/html/body/div[3]/div/div/div[1]/div[4]/div[2]/div/div/input\")\n",
    "hydrabad.send_keys('Ambarpet')"
   ]
  },
  {
   "cell_type": "code",
   "execution_count": 136,
   "id": "5ba2cc62",
   "metadata": {},
   "outputs": [],
   "source": [
    "# click area address \n",
    "hydrabad_click = driver.find_element(By.XPATH,\"/html/body/div[3]/div/div/div[1]/div[4]/div[2]/div/div\")\n",
    "hydrabad_click.click()"
   ]
  },
  {
   "cell_type": "code",
   "execution_count": 137,
   "id": "2268d507",
   "metadata": {},
   "outputs": [],
   "source": [
    "# click search button \n",
    "search = driver.find_element(By.XPATH,\"/html/body/div[3]/div/div/div[1]/div[4]/button\")\n",
    "search.click()"
   ]
  },
  {
   "cell_type": "code",
   "execution_count": 138,
   "id": "58c56bd8",
   "metadata": {},
   "outputs": [
    {
     "data": {
      "text/plain": [
       "320"
      ]
     },
     "execution_count": 138,
     "metadata": {},
     "output_type": "execute_result"
    }
   ],
   "source": [
    "# fetching hydrabad link \n",
    "for _ in range(20):\n",
    "    driver.execute_script(\"window.scrollBy(0,20)\")\n",
    "    time.sleep(20)\n",
    "hydrabad_url = []\n",
    "hydrabad_link = driver.find_elements(By.XPATH,'//a[@class=\"overflow-hidden overflow-ellipsis whitespace-nowrap max-w-80pe po:max-w-full\"]')\n",
    "\n",
    "for i in hydrabad_link:        \n",
    "    hydrabad_url.append(i.get_attribute('href'))   \n",
    "# print length of url    \n",
    "len(hydrabad_url)"
   ]
  },
  {
   "cell_type": "code",
   "execution_count": 139,
   "id": "e723d729",
   "metadata": {},
   "outputs": [],
   "source": [
    "# create empty list for stored featch data \n",
    "\n",
    "hydrabad_onwer = []\n",
    "hydrabad_bedroom = []\n",
    "hydrabad_furnish = []\n",
    "hydrabad_parking = []\n",
    "hydrabad_bathroom = []\n",
    "hydrabad_balcony = []\n",
    "hydrabad_sq_fit = []\n",
    "hydrabad_carpet_area = []\n",
    "hydrabad_rate = []\n",
    "hydrabad_floor = []\n",
    "hydrabad_price = []\n",
    "hydrabad_address = []\n",
    "hydrabad_facing = []\n",
    "hydrabad_pro_type = []\n",
    "hydrabad_bhk = []\n",
    "\n",
    "# featch all mention data \n",
    "\n",
    "for i in hydrabad_url:\n",
    "    driver.get(i)\n",
    "    time.sleep(5)\n",
    "    try:\n",
    "        o = driver.find_element(By.XPATH,\"/html/body/div[3]/div/div/section/div/div[1]/div/div/section[2]/div/div[1]/div[1]/div/div[2]/div[2]/div[3]/h5\")\n",
    "        hydrabad_onwer.append(o.text)\n",
    "    except NoSuchElementException:\n",
    "        hydrabad_onwer.append(np.nan)\n",
    "    try:\n",
    "        bath = driver.find_element(By.XPATH,\"/html/body/div[3]/div/div/section/div/div[1]/div/div/section[1]/div/div[2]/div[2]/div/section/div[2]/div[3]/div[2]/span/h4\")\n",
    "        hydrabad_bathroom.append(bath.text)\n",
    "    except NoSuchElementException:\n",
    "        hydrabad_bathroom.append(np.nan)\n",
    "    try:\n",
    "        BA = driver.find_element(By.XPATH,\"/html/body/div[3]/div/div/section/div/div[1]/div/div/section[1]/div/div[2]/div[2]/div/section/div[2]/div[5]/div[2]/span/h4\")\n",
    "        hydrabad_balcony.append(BA.text)\n",
    "    except NoSuchElementException:\n",
    "        hydrabad_balcony.append(np.nan)\n",
    "    try:\n",
    "        bh = driver.find_element(By.XPATH,\"/html/body/div[3]/div/div/section/div/div[1]/div/div/section[1]/div/div[2]/div[2]/div/section/div[2]/div[1]/div[2]/span/h4\")\n",
    "        hydrabad_bhk.append(bh.text)\n",
    "    except NoSuchElementException:\n",
    "        hydrabad_bhk.append(np.nan)    \n",
    "\n",
    "    try:\n",
    "        sq = driver.find_element(By.XPATH,\"/html/body/div[3]/div/div/section/div/div[1]/div/div/section[2]/div/div[1]/div[1]/div/div[2]/div[5]/div[3]\")\n",
    "        hydrabad_sq_fit.append(sq.text)\n",
    "    except NoSuchElementException:\n",
    "        hydrabad_sq_fit.append(np.nan)\n",
    "    try:\n",
    "        c = driver.find_element(By.XPATH,\"/html/body/div[3]/div/div/section/div/div[1]/div/div/section[2]/div/div[1]/div[1]/div/div[2]/div[6]/div[3]/h5\")\n",
    "        hydrabad_carpet_area.append(c.text)\n",
    "    except NoSuchElementException:\n",
    "        hydrabad_carpet_area.append(np.nan)\n",
    "    try:\n",
    "        f = driver.find_element(By.XPATH,\"/html/body/div[3]/div/div/section/div/div[1]/div/div/section[2]/div/div[1]/div[1]/div/div[2]/div[9]/div[3]/h5\")\n",
    "        hydrabad_floor.append(f.text)\n",
    "    except NoSuchElementException:\n",
    "        hydrabad_floor.append(np.nan)\n",
    "    try:\n",
    "        p = driver.find_element(By.XPATH,\"/html/body/div[3]/div/div/section/div/div[1]/div/div/section[1]/div/div[1]/div/div/div[1]/div[3]/div[1]/div/div[1]/span\")\n",
    "        hydrabad_price.append(p.text)\n",
    "    except NoSuchElementException:\n",
    "        hydrabad_price.append(np.nan)\n",
    "    try:\n",
    "        A = driver.find_element(By.XPATH,\"/html/body/div[3]/div/div/section/div/div[1]/div/div/section[1]/div/div[1]/div/div/div[1]/div[2]/div[1]/h5\")\n",
    "        hydrabad_address.append(A.text)\n",
    "    except NoSuchElementException:\n",
    "        hydrabad_address.append(np.nan)\n",
    "    try:\n",
    "        r = driver.find_element(By.XPATH,\"/html/body/main/div/div[2]/div[1]/div[3]/div/div[2]/li[3]/span[2]\")\n",
    "        hydrabad_rate.append(r.text)\n",
    "    except NoSuchElementException:\n",
    "        hydrabad_rate.append(np.nan)\n",
    "    try:\n",
    "        B = driver.find_element(By.XPATH,\"/html/body/div[3]/div/div/section/div/div[1]/div/div/section[1]/div/div[2]/div[2]/div/section/div[2]/div[1]/div[2]/span/h4\")\n",
    "        hydrabad_bedroom.append(B.text)\n",
    "    except NoSuchElementException:\n",
    "        hydrabad_bedroom.append(np.nan)\n",
    "    try:\n",
    "        F = driver.find_element(By.XPATH,\"/html/body/div[3]/div/div/section/div/div[1]/div/div/section[2]/div/div[1]/div[1]/div/div[2]/div[7]/div[3]/h5\")\n",
    "        hydrabad_furnish.append(F.text)\n",
    "    except NoSuchElementException:\n",
    "        hydrabad_furnish.append(np.nan)\n",
    "    try:\n",
    "        P = driver.find_element(By.XPATH,\"/html/body/div[3]/div/div/section/div/div[1]/div/div/section[2]/div/div[1]/div[1]/div/div[2]/div[10]/div[3]/h5\")\n",
    "        hydrabad_parking.append(P.text)\n",
    "    except NoSuchElementException:\n",
    "        hydrabad_parking.append(np.nan)\n",
    "    try: \n",
    "        pr = driver.find_element(By.XPATH,\"/html/body/div[3]/div/div/section/div/div[1]/div/div/section[2]/div/div[1]/div[1]/div/div[2]/div[2]/div[3]/h5\")\n",
    "        hydrabad_pro_type.append(pr.text)\n",
    "    except NoSuchElementException:\n",
    "        hydrabad_pro_type.append(np.nan)\n",
    "    try:\n",
    "        fa = driver.find_element(By.XPATH,\"/html/body/div[3]/div/div/section/div/div[1]/div/div/section[2]/div/div[1]/div[1]/div/div[2]/div[8]/div[3]/h5\")\n",
    "        hydrabad_facing.append(fa.text)\n",
    "    except NoSuchElementException:\n",
    "        hydrabad_facing.append(np.nan)\n",
    "        "
   ]
  },
  {
   "cell_type": "code",
   "execution_count": 140,
   "id": "4e181cd0",
   "metadata": {},
   "outputs": [],
   "source": [
    "# click home button \n",
    "Home = driver.find_element(By.XPATH,\"/html/body/div[3]/div/div/div[1]/header/div[1]/div[2]/div/img\")\n",
    "Home.click()"
   ]
  },
  {
   "cell_type": "code",
   "execution_count": 141,
   "id": "4001bf0c",
   "metadata": {},
   "outputs": [],
   "source": [
    "# click buy button\n",
    "buy = driver.find_element(By.XPATH,\"/html/body/div[3]/div/div/div[1]/div[3]/div[1]\")\n",
    "buy.click()"
   ]
  },
  {
   "cell_type": "code",
   "execution_count": 142,
   "id": "4bbe6d1d",
   "metadata": {},
   "outputs": [],
   "source": [
    "# click city location \n",
    "gaziabad = driver.find_element(By.XPATH,\"/html/body/div[3]/div/div/div[1]/div[4]/div[1]/div/div/div/div[1]/div\")\n",
    "gaziabad.click()"
   ]
  },
  {
   "cell_type": "code",
   "execution_count": 143,
   "id": "89938d76",
   "metadata": {},
   "outputs": [],
   "source": [
    "# click gaziabad location \n",
    "city = driver.find_element(By.XPATH,\"/html/body/div[3]/div/div/div[1]/div[4]/div[1]/div/div/div/div[1]/div\")\n",
    "city.click()"
   ]
  },
  {
   "cell_type": "code",
   "execution_count": 146,
   "id": "b0cce7e2",
   "metadata": {},
   "outputs": [],
   "source": [
    "# send gaziabad area location \n",
    "Gaziabad = driver.find_element(By.XPATH,\"/html/body/div[3]/div/div/div[1]/div[4]/div[2]/div/div/input\")\n",
    "Gaziabad.send_keys('Gagan Vihar')"
   ]
  },
  {
   "cell_type": "code",
   "execution_count": 147,
   "id": "dced5aff",
   "metadata": {},
   "outputs": [],
   "source": [
    "# click area address \n",
    "gazibad_click = driver.find_element(By.XPATH,\"/html/body/div[3]/div/div/div[1]/div[4]/div[2]/div/div\")\n",
    "gazibad_click.click()"
   ]
  },
  {
   "cell_type": "code",
   "execution_count": 148,
   "id": "e4fd47f1",
   "metadata": {},
   "outputs": [],
   "source": [
    "# click search button \n",
    "search = driver.find_element(By.XPATH,\"/html/body/div[3]/div/div/div[1]/div[4]/button\")\n",
    "search.click()"
   ]
  },
  {
   "cell_type": "code",
   "execution_count": 149,
   "id": "a64a758e",
   "metadata": {},
   "outputs": [
    {
     "data": {
      "text/plain": [
       "231"
      ]
     },
     "execution_count": 149,
     "metadata": {},
     "output_type": "execute_result"
    }
   ],
   "source": [
    "# fetching gaziabad link \n",
    "for _ in range(20):\n",
    "    driver.execute_script(\"window.scrollBy(0,20)\")\n",
    "    time.sleep(20)\n",
    "gaziabad_url = []\n",
    "gaziabad_link = driver.find_elements(By.XPATH,'//a[@class=\"overflow-hidden overflow-ellipsis whitespace-nowrap max-w-80pe po:max-w-full\"]')\n",
    "\n",
    "for i in gaziabad_link:        \n",
    "    gaziabad_url.append(i.get_attribute('href'))   \n",
    "# print length of url    \n",
    "len(gaziabad_url)"
   ]
  },
  {
   "cell_type": "code",
   "execution_count": 151,
   "id": "2ce1a6e5",
   "metadata": {},
   "outputs": [],
   "source": [
    "# create empty list for stored featch data \n",
    "\n",
    "gaziabad_onwer = []\n",
    "gaziabad_bedroom = []\n",
    "gaziabad_furnish = []\n",
    "gaziabad_parking = []\n",
    "gaziabad_bathroom = []\n",
    "gaziabad_balcony = []\n",
    "gaziabad_sq_fit = []\n",
    "gaziabad_carpet_area = []\n",
    "gaziabad_rate = []\n",
    "gaziabad_floor = []\n",
    "gaziabad_price = []\n",
    "gaziabad_address = []\n",
    "gaziabad_facing = []\n",
    "gaziabad_pro_type = []\n",
    "gaziabad_bhk = []\n",
    "\n",
    "# featch all mention data \n",
    "\n",
    "for i in gaziabad_url:\n",
    "    driver.get(i)\n",
    "    time.sleep(5)\n",
    "    try:\n",
    "        o = driver.find_element(By.XPATH,\"/html/body/div[3]/div/div/section/div/div[1]/div/div/section[2]/div/div[1]/div[1]/div/div[2]/div[2]/div[3]/h5\")\n",
    "        gaziabad_onwer.append(o.text)\n",
    "    except NoSuchElementException:\n",
    "        gaziabad_onwer.append(np.nan)\n",
    "    try:\n",
    "        bath = driver.find_element(By.XPATH,\"/html/body/div[3]/div/div/section/div/div[1]/div/div/section[1]/div/div[2]/div[2]/div/section/div[2]/div[3]/div[2]/span/h4\")\n",
    "        gaziabad_bathroom.append(bath.text)\n",
    "    except NoSuchElementException:\n",
    "        gaziabad_bathroom.append(np.nan)\n",
    "    try:\n",
    "        BA = driver.find_element(By.XPATH,\"/html/body/div[3]/div/div/section/div/div[1]/div/div/section[1]/div/div[2]/div[2]/div/section/div[2]/div[5]/div[2]/span/h4\")\n",
    "        gaziabad_balcony.append(BA.text)\n",
    "    except NoSuchElementException:\n",
    "        gaziabad_balcony.append(np.nan)\n",
    "    try:\n",
    "        bh = driver.find_element(By.XPATH,\"/html/body/div[3]/div/div/section/div/div[1]/div/div/section[1]/div/div[2]/div[2]/div/section/div[2]/div[1]/div[2]/span/h4\")\n",
    "        gaziabad_bhk.append(bh.text)\n",
    "    except NoSuchElementException:\n",
    "        gaziabad_bhk.append(np.nan)    \n",
    "\n",
    "    try:\n",
    "        sq = driver.find_element(By.XPATH,\"/html/body/div[3]/div/div/section/div/div[1]/div/div/section[2]/div/div[1]/div[1]/div/div[2]/div[5]/div[3]\")\n",
    "        gaziabad_sq_fit.append(sq.text)\n",
    "    except NoSuchElementException:\n",
    "        gaziabad_sq_fit.append(np.nan)\n",
    "    try:\n",
    "        c = driver.find_element(By.XPATH,\"/html/body/div[3]/div/div/section/div/div[1]/div/div/section[2]/div/div[1]/div[1]/div/div[2]/div[6]/div[3]/h5\")\n",
    "        gaziabad_carpet_area.append(c.text)\n",
    "    except NoSuchElementException:\n",
    "        gaziabad_carpet_area.append(np.nan)\n",
    "    try:\n",
    "        f = driver.find_element(By.XPATH,\"/html/body/div[3]/div/div/section/div/div[1]/div/div/section[2]/div/div[1]/div[1]/div/div[2]/div[9]/div[3]/h5\")\n",
    "        gaziabad_floor.append(f.text)\n",
    "    except NoSuchElementException:\n",
    "        gaziabad_floor.append(np.nan)\n",
    "    try:\n",
    "        p = driver.find_element(By.XPATH,\"/html/body/div[3]/div/div/section/div/div[1]/div/div/section[1]/div/div[1]/div/div/div[1]/div[3]/div[1]/div/div[1]/span\")\n",
    "        gaziabad_price.append(p.text)\n",
    "    except NoSuchElementException:\n",
    "        gaziabad_price.append(np.nan)\n",
    "    try:\n",
    "        A = driver.find_element(By.XPATH,\"/html/body/div[3]/div/div/section/div/div[1]/div/div/section[1]/div/div[1]/div/div/div[1]/div[2]/div[1]/h5\")\n",
    "        gaziabad_address.append(A.text)\n",
    "    except NoSuchElementException:\n",
    "        gaziabad_address.append(np.nan)\n",
    "    try:\n",
    "        r = driver.find_element(By.XPATH,\"/html/body/main/div/div[2]/div[1]/div[3]/div/div[2]/li[3]/span[2]\")\n",
    "        gaziabad_rate.append(r.text)\n",
    "    except NoSuchElementException:\n",
    "        gaziabad_rate.append(np.nan)\n",
    "    try:\n",
    "        B = driver.find_element(By.XPATH,\"/html/body/div[3]/div/div/section/div/div[1]/div/div/section[1]/div/div[2]/div[2]/div/section/div[2]/div[1]/div[2]/span/h4\")\n",
    "        gaziabad_bedroom.append(B.text)\n",
    "    except NoSuchElementException:\n",
    "        gaziabad_bedroom.append(np.nan)\n",
    "    try:\n",
    "        F = driver.find_element(By.XPATH,\"/html/body/div[3]/div/div/section/div/div[1]/div/div/section[2]/div/div[1]/div[1]/div/div[2]/div[7]/div[3]/h5\")\n",
    "        gaziabad_furnish.append(F.text)\n",
    "    except NoSuchElementException:\n",
    "        gaziabad_furnish.append(np.nan)\n",
    "    try:\n",
    "        P = driver.find_element(By.XPATH,\"/html/body/div[3]/div/div/section/div/div[1]/div/div/section[2]/div/div[1]/div[1]/div/div[2]/div[10]/div[3]/h5\")\n",
    "        gaziabad_parking.append(P.text)\n",
    "    except NoSuchElementException:\n",
    "        gaziabad_parking.append(np.nan)\n",
    "    try: \n",
    "        pr = driver.find_element(By.XPATH,\"/html/body/div[3]/div/div/section/div/div[1]/div/div/section[2]/div/div[1]/div[1]/div/div[2]/div[2]/div[3]/h5\")\n",
    "        gaziabad_pro_type.append(pr.text)\n",
    "    except NoSuchElementException:\n",
    "        gaziabad_pro_type.append(np.nan)\n",
    "    try:\n",
    "        fa = driver.find_element(By.XPATH,\"/html/body/div[3]/div/div/section/div/div[1]/div/div/section[2]/div/div[1]/div[1]/div/div[2]/div[8]/div[3]/h5\")\n",
    "        gaziabad_facing.append(fa.text)\n",
    "    except NoSuchElementException:\n",
    "        gaziabad_facing.append(np.nan)\n",
    "      "
   ]
  },
  {
   "cell_type": "code",
   "execution_count": 161,
   "id": "b0cf0278",
   "metadata": {},
   "outputs": [],
   "source": [
    "# close webdriver\n",
    "driver.close()"
   ]
  },
  {
   "cell_type": "code",
   "execution_count": null,
   "id": "cd71e4d2",
   "metadata": {},
   "outputs": [],
   "source": []
  },
  {
   "cell_type": "code",
   "execution_count": 159,
   "id": "80c03224",
   "metadata": {},
   "outputs": [],
   "source": [
    "# combine all list in single list \n",
    "\n",
    "Onwer = andheri_onwer + faridabad_onwer + delhi_onwer + noida_onwer + banglore_onwer + chennai_onwer + gurgaon_onwer + chakan_onwer + hydrabad_onwer + gaziabad_onwer\n",
    "Bedroom = andheri_bedroom + faridabad_bedroom + delhi_bedroom + noida_bedroom + banglore_bedroom + chennai_bedroom + chakan_bedroom + hydrabad_bedroom + gaziabad_bedroom\n",
    "Furnish = andheri_furnish + faridabad_furnish + delhi_furnish + noida_furnish + banglore_furnish + chennai_furnish + chakan_furnish + hydrabad_furnish + gaziabad_furnish\n",
    "Parking = andheri_parking + faridabad_parking + delhi_parking + noida_parking + banglore_parking + chennai_parking + chakan_parking + hydrabad_parking + gaziabad_parking \n",
    "Bathroom = andheri_bathroom + faridabad_bathroom + delhi_bathroom + noida_bathroom + banglore_bathroom + chennai_bathroom + chakan_bathroom + hydrabad_bathroom + gaziabad_bathroom\n",
    "Balcony = andheri_balcony + faridabad_balcony + delhi_balcony + noida_balcony + banglore_balcony + chennai_balcony + chakan_balcony + hydrabad_balcony + gaziabad_balcony\n",
    "SqFit = andheri_sq_fit + faridabad_sq_fit + delhi_sq_fit + noida_sq_fit + banglore_sq_fit + chennai_sq_fit + chakan_sq_fit + hydrabad_sq_fit + gaziabad_sq_fit\n",
    "CarpetArea = andheri_carpet_area + faridabad_carpet_area + delhi_carpet_area + noida_carpet_area + banglore_carpet_area + chennai_carpet_area + chakan_carpet_area + hydrabad_carpet_area + gaziabad_carpet_area\n",
    "Rate = andheri_rate + faridabad_rate + delhi_rate + noida_rate + banglore_rate + chennai_rate + chakan_rate + hydrabad_rate + gaziabad_rate\n",
    "Floor = andheri_floor + faridabad_floor + delhi_floor + noida_floor + banglore_floor + chennai_floor + chakan_floor + hydrabad_floor +gaziabad_floor\n",
    "Price = andheri_price + faridabad_price + delhi_price + noida_price + banglore_price + chennai_price + chakan_price + hydrabad_price + gaziabad_price \n",
    "Address = andheri_address + faridabad_address + delhi_address + noida_address + banglore_address + chennai_address + chakan_address + hydrabad_address + gaziabad_address  \n",
    "Facing = andheri_facing + faridabad_facing + delhi_facing + noida_facing + banglore_facing + chennai_facing + chakan_facing + hydrabad_facing + gaziabad_facing \n",
    "proType = andheri_pro_type + faridabad_pro_type + delhi_pro_type + noida_pro_type + banglore_pro_type + chennai_pro_type + chakan_pro_type + hydrabad_pro_type + gaziabad_pro_type\n",
    "BHK = andheri_bhk + faridabad_bhk + delhi_bhk + noida_bhk + banglore_bhk + chennai_bhk + chakan_bhk + hydrabad_bhk + gaziabad_bhk"
   ]
  },
  {
   "cell_type": "code",
   "execution_count": 160,
   "id": "0c4a6a74",
   "metadata": {},
   "outputs": [
    {
     "name": "stdout",
     "output_type": "stream",
     "text": [
      "onwer 2858\n",
      "bedroom 2677\n",
      "furnish 2677\n",
      "parking 2677\n",
      "bathroom 2677\n",
      "balcony 2677\n",
      "sq_fit 2677\n",
      "carpetarea 2677\n",
      "rate 2677\n",
      "Floor 2677\n",
      "price 2677\n",
      "Address 2677\n",
      "facing 2677\n",
      "protypr 2677\n",
      "bhk 2677\n"
     ]
    }
   ],
   "source": [
    "# check length of list data \n",
    "\n",
    "print(\"onwer\" ,len(Onwer))\n",
    "print(\"bedroom\",len(Bedroom))\n",
    "print(\"furnish\", len(Furnish))\n",
    "print(\"parking\",len(Parking))\n",
    "print(\"bathroom\",len(Bathroom))\n",
    "print(\"balcony\",len(Balcony))\n",
    "print(\"sq_fit\",len(SqFit))\n",
    "print(\"carpetarea\",len(CarpetArea))\n",
    "print(\"rate\",len(Rate))\n",
    "print(\"Floor\",len(Floor))\n",
    "print(\"price\",len(Price))\n",
    "print(\"Address\",len(Address))\n",
    "print(\"facing\",len(Facing))\n",
    "print(\"protypr\",len(proType))\n",
    "print(\"bhk\",len(BHK))"
   ]
  },
  {
   "cell_type": "code",
   "execution_count": 377,
   "id": "5606e050",
   "metadata": {},
   "outputs": [],
   "source": [
    "onwer = list(Onwer)\n",
    "bedroom = list(Bedroom)\n",
    "furnish = list(Furnish)\n",
    "parking = list(Parking)\n",
    "bathroom = list(Bathroom)\n",
    "balcony = list(Balcony)\n",
    "sqfit = list(SqFit)\n",
    "carpetarea = list(CarpetArea)\n",
    "rate = list(Rate)\n",
    "floor = list(Floor)\n",
    "price = list(Price)\n",
    "address = list(Address)\n",
    "facing = list(Facing)\n",
    "protype = list(proType)\n",
    "bhk = list(BHK)"
   ]
  },
  {
   "cell_type": "code",
   "execution_count": 372,
   "id": "1f22c859",
   "metadata": {},
   "outputs": [],
   "source": [
    "# serial no. for data \n",
    "sno = []\n",
    "for i in range(1,2678):\n",
    "    sno.append(i)\n"
   ]
  },
  {
   "cell_type": "code",
   "execution_count": 315,
   "id": "26eb3219",
   "metadata": {},
   "outputs": [],
   "source": [
    "tab = [sno, bhk, protype, bedroom, bathroom, balcony, address ]"
   ]
  },
  {
   "cell_type": "code",
   "execution_count": 237,
   "id": "0030d6ef",
   "metadata": {},
   "outputs": [],
   "source": [
    "sno = tuple(sno)"
   ]
  },
  {
   "cell_type": "code",
   "execution_count": 181,
   "id": "aa8f015c",
   "metadata": {},
   "outputs": [
    {
     "name": "stdout",
     "output_type": "stream",
     "text": [
      "Collecting mysql-connector-python\n",
      "  Downloading mysql_connector_python-8.4.0-cp310-cp310-win_amd64.whl (14.5 MB)\n",
      "     ---------------------------------------- 14.5/14.5 MB 7.4 MB/s eta 0:00:00\n",
      "Installing collected packages: mysql-connector-python\n",
      "Successfully installed mysql-connector-python-8.4.0\n"
     ]
    }
   ],
   "source": [
    "# intall my sql connector\n",
    "!pip install mysql-connector-python"
   ]
  },
  {
   "cell_type": "code",
   "execution_count": 183,
   "id": "2e39904c",
   "metadata": {},
   "outputs": [],
   "source": [
    "import mysql.connector"
   ]
  },
  {
   "cell_type": "code",
   "execution_count": 470,
   "id": "7b71a567",
   "metadata": {},
   "outputs": [
    {
     "name": "stdout",
     "output_type": "stream",
     "text": [
      "<mysql.connector.connection_cext.CMySQLConnection object at 0x000001EF41BB6680>\n"
     ]
    }
   ],
   "source": [
    "db = mysql.connector.connect(\n",
    "    host = \"localhost\",\n",
    "    user = \"root\",\n",
    "    password = \"root\",\n",
    "    database = \"capstone\")\n",
    "print(db)  "
   ]
  },
  {
   "cell_type": "code",
   "execution_count": 471,
   "id": "f027f457",
   "metadata": {},
   "outputs": [
    {
     "name": "stdout",
     "output_type": "stream",
     "text": [
      "('table1',)\n",
      "('table2',)\n",
      "('table3',)\n"
     ]
    }
   ],
   "source": [
    "cursor = db.cursor()\n",
    "cursor.execute(\"SHOW TABLES\")\n",
    "for i in cursor:\n",
    "    print(i)"
   ]
  },
  {
   "cell_type": "code",
   "execution_count": 472,
   "id": "dfb88552",
   "metadata": {},
   "outputs": [
    {
     "name": "stdout",
     "output_type": "stream",
     "text": [
      "Error: Failed executing the operation; Python type record cannot be converted\n"
     ]
    }
   ],
   "source": [
    "\n",
    "try:\n",
    "    # Get cursor\n",
    "    cursor = db.cursor()\n",
    "    \n",
    "    df = pd.DataFrame(data)\n",
    "    \n",
    "    # Replace NaN values with None or suitable default value\n",
    "    df = df.where(pd.notnull(df), None)\n",
    "\n",
    "    # SQL insert statement with specified columns\n",
    "    sql = \"INSERT INTO table1(Sno, BHK, PropertyType, Beds, Bathroom, Balcony, Address) VALUES (%s, %s, %s, %s, %s, %s, %s)\"\n",
    "\n",
    "    # Convert DataFrame to list of tuples\n",
    "    records = df.to_records(index=False)\n",
    "    data = list(records)\n",
    "    \n",
    "    # Execute the SQL statement \n",
    "    cursor.executemany(sql, (data,))\n",
    "\n",
    "    db.commit()\n",
    "\n",
    "    print(cursor.rowcount, \"record(s) inserted successfully.\")\n",
    "\n",
    "except mysql.connector.Error as error:\n",
    "    print(f\"Error: {error}\")\n",
    "\n",
    "finally:\n",
    "    # Close cursor and database connection\n",
    "    if cursor:\n",
    "        cursor.close()\n",
    "    if db:\n",
    "        db.close()\n"
   ]
  },
  {
   "cell_type": "code",
   "execution_count": null,
   "id": "6ef0854b",
   "metadata": {},
   "outputs": [],
   "source": []
  }
 ],
 "metadata": {
  "kernelspec": {
   "display_name": "Python 3 (ipykernel)",
   "language": "python",
   "name": "python3"
  },
  "language_info": {
   "codemirror_mode": {
    "name": "ipython",
    "version": 3
   },
   "file_extension": ".py",
   "mimetype": "text/x-python",
   "name": "python",
   "nbconvert_exporter": "python",
   "pygments_lexer": "ipython3",
   "version": "3.10.9"
  }
 },
 "nbformat": 4,
 "nbformat_minor": 5
}
